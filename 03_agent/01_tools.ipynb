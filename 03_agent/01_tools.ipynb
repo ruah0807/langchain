{
 "cells": [
  {
   "cell_type": "markdown",
   "metadata": {},
   "source": [
    "# 도구 (Tools)\n",
    "도구(Tool)는 에이전트, 체인 또는 LLM이 외부 세계와 상호작용하기 위한 인터페이스입니다.\n",
    "\n",
    "LangChain 에서 기본 제공하는 도구를 사용하여 쉽게 도구를 활용할 수 있으며, 사용자 정의 도구(Custom Tool) 를 쉽게 구축하는 것도 가능합니다.\n",
    "\n",
    "LangChain 에 통합된 도구 리스트는 아래 링크에서 확인할 수 있습니다.\n",
    "\n",
    "\n",
    "https://python.langchain.com/v0.1/docs/integrations/tools/\n",
    "\n"
   ]
  },
  {
   "cell_type": "code",
   "execution_count": 101,
   "metadata": {},
   "outputs": [
    {
     "data": {
      "text/plain": [
       "True"
      ]
     },
     "execution_count": 101,
     "metadata": {},
     "output_type": "execute_result"
    }
   ],
   "source": [
    "from dotenv import load_dotenv\n",
    "\n",
    "\n",
    "load_dotenv()\n",
    "\n"
   ]
  },
  {
   "cell_type": "code",
   "execution_count": 102,
   "metadata": {},
   "outputs": [
    {
     "name": "stdout",
     "output_type": "stream",
     "text": [
      "LangSmith 추적을 시작합니다.\n",
      "[프로젝트명]\n",
      "agent-tools\n"
     ]
    }
   ],
   "source": [
    "# Langsmith 추적설정 \n",
    "from langchain_teddynote import logging\n",
    "logging.langsmith(\"agent-tools\")"
   ]
  },
  {
   "cell_type": "code",
   "execution_count": 103,
   "metadata": {},
   "outputs": [],
   "source": [
    "import warnings\n",
    "\n",
    "#경고 메시지 무시\n",
    "warnings.filterwarnings(\"ignore\")\n"
   ]
  },
  {
   "cell_type": "markdown",
   "metadata": {},
   "source": [
    "## 빌트인 도구(built-in tools)\n",
    "랭체인에서 제공하는 사전에 정의된 도구(tool) 와 툴킷(toolkit) 을 사용할 수 있다.\n",
    "tool 은 단일 도구를 의미하며, toolkit 은 여러 도구를 묶어서 하나의 도구로 사용할 수 있다.\n",
    "관련 도구는 아래의 링크에서 참고 가능하다.\n",
    "\n",
    "-  Resource : https://python.langchain.com/docs/integrations/tools/\n",
    "\n",
    "### Python REPL 도구\n",
    "이 도구는 Python 코드를 REPL(Read-Eval-Print Loop) 환경에서 실행하기 위한 클래스를 제공한다.\n",
    "- 코드를 만들어 실행하는 도구\n",
    "- Python 셸 환경을 제공\n",
    "- 유효한 Python 명령어를 입력으로 받아 실행\n",
    "- 결과를 보려면 print(...) 함수를 사용\n",
    "\n",
    "- 주요 특징\n",
    "    - sanitize_input: 입력을 정제하는 옵션 (기본값: True)\n",
    "    - python_repl: PythonREPL 인스턴스 (기본값: 전역 범위에서 실행)\n",
    "\n",
    "- 사용 방법\n",
    "    - PythonREPLTool 인스턴스 생성\n",
    "    - run 또는 arun, invoke 메서드를 사용하여 Python 코드 실행\n",
    "- 입력 정제\n",
    "    - 입력 문자열에서 불필요한 공백, 백틱, 'python' 키워드 등을 제거\n"
   ]
  },
  {
   "cell_type": "code",
   "execution_count": 104,
   "metadata": {},
   "outputs": [],
   "source": [
    "! pip install -q langchain_experimental"
   ]
  },
  {
   "cell_type": "code",
   "execution_count": 105,
   "metadata": {},
   "outputs": [],
   "source": [
    "from langchain_experimental.tools import PythonREPLTool\n",
    "\n",
    "# 파이썬 코드 실행도구 생성\n",
    "python_tool = PythonREPLTool()\n"
   ]
  },
  {
   "cell_type": "code",
   "execution_count": 106,
   "metadata": {},
   "outputs": [
    {
     "name": "stdout",
     "output_type": "stream",
     "text": [
      "425\n",
      "\n"
     ]
    }
   ],
   "source": [
    "# 파이썬 코드 실행 및 반환\n",
    "print(python_tool.invoke(\"print(200+225)\"))"
   ]
  },
  {
   "cell_type": "markdown",
   "metadata": {},
   "source": [
    "아래는 LLM에게 파이썬 코드를 작성하도록 요청하고 결과를 반환하는 예제이다.\n",
    "\n",
    "#### Flow\n",
    "    1. LLM에게 파이썬 코드를 작성하도록 요청\n",
    "    2. 파이썬 코드를 작성하고 실행\n",
    "    3. 결과를 반환\n",
    "\n"
   ]
  },
  {
   "cell_type": "code",
   "execution_count": 107,
   "metadata": {},
   "outputs": [],
   "source": [
    "from langchain_openai import ChatOpenAI\n",
    "from langchain_core.prompts import ChatPromptTemplate\n",
    "from langchain_core.output_parsers import StrOutputParser\n",
    "from langchain_core.runnables import RunnableLambda\n",
    "\n",
    "# execute python, print the process, and return the result\n",
    "def print_and_execute(code, debug = True):\n",
    "    if debug:\n",
    "        print(f\"Executing code:\")\n",
    "        print(code)\n",
    "    return python_tool.invoke(code)\n",
    "    \n",
    "\n",
    "# Request the code to make a python code\n",
    "prompt = ChatPromptTemplate.from_messages(\n",
    "    [\n",
    "        (\n",
    "            \"system\", \n",
    "            \"\"\"\n",
    "            당신은 레이몬드 헤팅이며, 메타 프로그래밍과 우아하고 간결하며 짧지만 잘 문서화된 코드를 잘 아는 전문가 파이썬 프로그래머입니다. \n",
    "            당신은 PEP8 스타일 가이드를 따릅니다.\n",
    "            Return only the code, no intro, no chatty, no markdown, no code block, no nothing. Just the code.\n",
    "            \"\"\"\n",
    "        ),\n",
    "        (\n",
    "            \"user\",\n",
    "            \"{input}\"\n",
    "         )\n",
    "        \n",
    "    ]\n",
    ")\n",
    "\n",
    "# create llm model\n",
    "llm = ChatOpenAI(model=\"gpt-4o\", temperature=0)\n",
    "\n",
    "# create chain using prompt, llm, and output parser\n",
    "# RunnableLambda : 함수를 래핑하여 함수를 실행하는 데 사용되는 클래스\n",
    "chain = prompt | llm | StrOutputParser() | RunnableLambda(print_and_execute)"
   ]
  },
  {
   "cell_type": "markdown",
   "metadata": {},
   "source": [
    "이 때, 왜인지 모르겠지만 gpt-4o 이상의 모델을 실행해야만 runnableLambda에서 함수 결과도 출력된다.\n"
   ]
  },
  {
   "cell_type": "code",
   "execution_count": 108,
   "metadata": {},
   "outputs": [
    {
     "name": "stdout",
     "output_type": "stream",
     "text": [
      "Executing code:\n",
      "import random\n",
      "\n",
      "def generate_lotto_numbers():\n",
      "    return sorted(random.sample(range(1, 46), 6))\n",
      "\n",
      "print(generate_lotto_numbers())\n",
      "[8, 26, 30, 35, 37, 43]\n",
      "\n"
     ]
    }
   ],
   "source": [
    "# print the result\n",
    "print(chain.invoke(\"로또 자동 번호 생성기를 출력하는 코드를 작성하시오\"))"
   ]
  },
  {
   "cell_type": "markdown",
   "metadata": {},
   "source": [
    "### 검색 API 도구\n",
    "\n",
    "최신 날씨, 뉴스 등의 경우는 LLM이 알수없기 때문에 인터넷 검색을 해야한다.\n",
    "\n",
    "- Search API 도구 : DuckDuckGo Search, SERP, Tavily\n",
    "\n",
    "우리는 그중에서 Tavily 도구를 사용해 보겠습니다. 먼저 API 키를 발급받아야 한다.\n",
    "Tavily는 한달에 1000건까지의 request를 무료로 사용할 수 있다고 한다.\n",
    "- https://app.tavily.com/home\n",
    "\n",
    "발급받은 키를 .env 파일에 저장한다.\n",
    "```terminal\n",
    "TAVILY_API_KEY=tvly-***************************\n",
    "```\n",
    "\n",
    "#### TabilySearchResult\n",
    "- Tavily 검색 API를 쿼리하고 Json 형태로 반환하는 도구\n",
    "- 포괄적이고 정확하며 최신 정보를 제공\n",
    "- 현재 이벤트, 주요 뉴스, 주요 블로그 등을 포함한 질문에 답변할때 유용\n",
    "\n",
    "- 주요 매개변수\n",
    "    - `max_results`(int): 검색 결과 최대 개수 (기본값: 5)\n",
    "    - `search_depth`(str): 검색 깊이 (basic, advanced) \n",
    "        - basic : 기본 검색 결과를 반환, 무료\n",
    "        - advanced : 더 깊은 검색 결과를 반환하지만 유료\n",
    "    - `include_domains`(list[str]): 검색 결과에 포함할 도메인 목록\n",
    "    - `exclude_domains`(list[str]): 검색 결과에 포함하지 않을 도메인 목록\n",
    "    - `include_answer`(bool): 검색 결과에 대한 짧은 답변 포함 여부\n",
    "    - `include_raw_content`(bool): 원본 콘텐츠 포함 여부\n",
    "    - `include_images`(bool): 이미지 포함 여부\n",
    "\n",
    "- 반환값 \n",
    "    - 검색 결과를 포함하는 Json 형식의 문자열(url, content)\n",
    "\n",
    "\n"
   ]
  },
  {
   "cell_type": "code",
   "execution_count": 109,
   "metadata": {},
   "outputs": [
    {
     "data": {
      "text/plain": [
       "[{'url': 'https://github.com/langchain-ai/langchain/issues/29423',\n",
       "  'content': \"Checked other resources. I added a very descriptive title to this issue. I searched the LangChain documentation with the integrated search. I used the GitHub search to find a similar question and didn't find it.\"},\n",
       " {'url': 'https://github.com/pakagronglb/simple-langchain-translator',\n",
       "  'content': \"A simple yet powerful translation API built with LangChain and FastAPI. This project demonstrates how to create a translation service using OpenAI's language models through LangChain's inte\"},\n",
       " {'url': 'https://cloud.google.com/spanner/docs/langchain',\n",
       "  'content': 'Preview — LangChain This feature is subject to the \"Pre-GA Offerings Terms\" in the General Service Terms section of the Service Specific Terms.Pre-GA features are available \"as is\" and might have limited support.'},\n",
       " {'url': 'https://github.com/langchain-ai/weblangchain/blob/main/main.py',\n",
       "  'content': 'Saved searches Use saved searches to filter your results more quickly'},\n",
       " {'url': 'https://cloud.google.com/docs/generative-ai/code-samples?hl=ko',\n",
       "  'content': '금융 상담사에게 투자 추천을 제공하는 Node 기반 RAG 앱을 빌드하는 방법을 알아봅니다. 이 샘플은 Vertex AI, Cloud Run, AlloyDB, Cloud Run 함수와 통합됩니다. Angular, TypeScript, Express.js, LangChain으로 빌드되었습니다.'},\n",
       " {'url': 'https://developers.google.com/optimization/',\n",
       "  'content': \"OR-Tools \\xa0|\\xa0 Google for Developers OR-Tools ========= OR-Tools OR API Installation Guides Reference Examples Support OR-Tools OR-Tools OR-Tools Get started with OR-Tools Install OR-Tools Install OR-Tools About OR-Tools OR-Tools is an open source software suite for optimization, tuned for tackling the world's toughest problems in vehicle routing, flows, integer and linear programming, and constraint programming. After modeling your problem in the programming language of your choice, you can use any of a half dozen solvers to solve it: commercial solvers such as Gurobi or CPLEX, or open-source solvers such as SCIP, GLPK, or Google's GLOP and award-winning CP-SAT. Join Google OR-Tools Discord server Google API Console Google Cloud Platform Console Google Play Console Actions on Google Console Google Home Developer Console\"},\n",
       " {'url': 'https://chromewebstore.google.com/detail/simple-translator-diction/lojpdfjjionbhgplcangflkalmiadhfi',\n",
       "  'content': 'Accurate translate words, phrases and texts using Google Translate. Right click on the word or phrase to translate using the Google Translator. Right-click on any word or phrase to access Google Translator for instant online translation. Quickly translate words on the current web page using Google Translator by right-clicking on the desired text. Use the \"Web Translator\" extension at your own risk; no warranty is provided. Use the translation button in the context menu or the extension\\'s popup. The \"Web Translator\" Chrome extension is independent of the popular site https://translate.google.com. Google Translate By the Google Translate team. Accurate translate words, phrases and texts using Google Translate. Right-click to translate words or phrases with Google Translate: accurate translations, full-page translator'},\n",
       " {'url': 'https://www.google.com/intl/ta/inputtools/',\n",
       "  'content': 'Google உள்ளீட்டு கருவி உள்ளீட்டு கருவி உள்ளடக்கத்திற்குச் செல் முகப்பு இதை முயற்சிக்கவும் Chrome Google சேவைகள் உங்கள் சொற்கள், உங்கள் மொழி, எங்கும் Google சேவைகள், Chrome, Android சாதனங்கள் மற்றும் Windows ஆகியவற்றிற்காக கிடைக்கின்றது. இதை முயற்சிக்கவும் வீடியோவைக் காண்க ஆன்லைன், ஆஃப்லைன், பயணத்தின்போது வீட்டில், பணியில் அல்லது வேறு எங்காவது இருக்கும்போது—தேவைப்படும்போது, வேண்டிய மொழியில் தொடர்புகொள்ளலாம். உங்களுக்காக நீங்களே தனிப்பயனாக்கியது Google Input Tools உங்கள் திருத்தங்களை நினைவுபடுத்துகிறது மற்றும் புதிய அல்லது பொதுவில் இல்லாத சொற்கள் மற்றும் பெயர்களுக்கான தனிப்பயன் அகராதியைப் பராமரிக்கிறது. நீங்கள் விரும்பும் வழியில் தட்டச்சு செய்க உங்கள் செய்தியை எல்லா மொழிகளிலும், நீங்கள் விரும்பும் நடையிலும் பெறுக. 80 க்கும் மேற்பட்ட மொழிகளுக்கு இடையில் மாற முடியும், மேலும் உள்ளீட்டு முறைகளானது தட்டச்சு செய்வது போலவே எளிதானது. பிற மொழிகளில் உள்ள உள்ளீட்டு முறைகள்: 日本語入力 ஆதரிக்கப்படும் மொழிகள் உள்ளடக்கப் பண்புக்கூறு நீங்கள் நினைப்பதைத் தெரியப்படுத்துங்கள் – கருத்தைச் சமர்ப்பி. மொழியை மாற்று:  Google Google ஓர் அறிமுகம் தனியுரிமை விதிமுறைகள்'},\n",
       " {'url': 'https://www.google.com/inputtools/try/',\n",
       "  'content': 'Try Google Input Tools online – Google Input Tools Input Tools Skip to content On Google Services Try Google Input Tools online Google Input Tools makes it easy to type in the language you choose, anywhere on the web. To try it out, choose your language and input tool below and begin typing. Special Characters Get Google Input Tools Content attribution Google About Google Latin South Asian Scripts Southeast Asian Scripts Other East Asian Scripts Han 1-Stroke Radicals Han 2-Stroke Radicals Han 3-Stroke Radicals Han 4-Stroke Radicals Han 5-Stroke Radicals Han 6-Stroke Radicals Han 7-Stroke Radicals Han 8-Stroke Radicals Han 9-Stroke Radicals Han 10-Stroke Radicals Han 11..17-Stroke Radicals Han - Other Latin 1 Supplement Math Math Alphanumeric Insert special characters'},\n",
       " {'url': 'https://chromewebstore.google.com/detail/google-translate/aapbdbdomjkkjkaonfhkkikfgjllcleb/RK=2/RS=BBFW_pnWkPY0xPMYsAZI5xOgQEE-',\n",
       "  'content': 'Google Translate - Chrome Web Store Google Translate By the Google Translate team. Learn more about Google Translate at https://support.google.com/translate. UPDATE (v.2.14+): Page translation is now supported natively in Chrome browsers and is no longer supported in the Google Translate extension. google-translate-chrome-extension-owners@google.comPhone Google Translate handles the following: Translator Right click to translate websites and PDF documents using Google Translate Translator Google Translate Plus Translate the definitions by google translate. Translate selected text with Google Translate Accurate translate words, phrases and texts using Google Translate. Translate text on any webpage instantly using Google Translate. Translator Right click to translate websites and PDF documents using Google Translate Translator Google Translate Plus Translate the definitions by google translate. Translate selected text with Google Translate'}]"
      ]
     },
     "execution_count": 109,
     "metadata": {},
     "output_type": "execute_result"
    }
   ],
   "source": [
    "import os\n",
    "from langchain_community.tools.tavily_search import TavilySearchResults\n",
    "\n",
    "load_dotenv()\n",
    "\n",
    "# create tool\n",
    "tool = TavilySearchResults(\n",
    "    max_results=10,\n",
    "    include_answer=True,\n",
    "    include_raw_content=True,\n",
    "    include_domains = [\"google.com\", \"github.com\"],\n",
    "    # include_images = True,\n",
    "    # include_depth = \"basic\",\n",
    "    # exclude_domains = []\n",
    ")\n",
    "\n",
    "# invoke tool\n",
    "tool.invoke({\"query\" : \"langchain으로 tavily를 사용하는방법\"}) # 'query' 키는 필수 매개변수이며, **':'(세미콜론)** 뒤에 쿼리 문자열을 작성한다.\n"
   ]
  },
  {
   "cell_type": "markdown",
   "metadata": {},
   "source": [
    "### 이미지 생성 Tool ( DALL-E )\n",
    "\n",
    "`DallEAPIWrapper` 클래스 OpenAI의 DALL-E 이미지 생성기를 위한 래퍼(wrapper)\n",
    "이 도구를 사용하면 DALL-E API를 쉽게 통합하여 텍스트 기반 이미지 생성 기능이 구현 겨ㅏ능하다. 다양한 설정 옵션을 통해 유연하고 강력한 이미지 생성 도구로 활용할 수 있다.\n",
    "\n",
    "- Element\n",
    "    - `model`: 사용할 DALL-E 모델 이름 (기본값: \"dall-e-2\", \"dall-e-3\")\n",
    "    - `n`: 생성할 이미지 수 (기본값: 1)\n",
    "    - `size`: 생성할 이미지 크기\n",
    "        - \"dall-e-2\": \"1024x1024\", \"512x512\", \"256x256\"\n",
    "        - \"dall-e-3\": \"1024x1024\", \"1792x1024\", \"1024x1792\"\n",
    "    - `style`: 생성될 이미지의 스타일 (기본값: \"natural\", \"vivid\")\n",
    "    - `quality`: 생성될 이미지의 품질 (기본값: \"standard\", \"hd\")\n",
    "    - `max_retries`: 생성 시 최대 재시도 횟수\n",
    "- Function\n",
    "    - DALL-E API를 사용하여 텍스트 설명에 기반한 이미지 생성\n",
    "- Flow\n",
    "    1. LLM에게 이미지를 생성하는 프롬프트를 작성하도록 요청\n",
    "    2. DALL-E API를 사용하여 이미지를 생성\n",
    "    3. 생성된 이미지를 반환\n"
   ]
  },
  {
   "cell_type": "code",
   "execution_count": 1,
   "metadata": {},
   "outputs": [
    {
     "name": "stdout",
     "output_type": "stream",
     "text": [
      "A vibrant theater interior showcasing a grand stage set for a musical adaptation of 'Harry Potter.' The stage is adorned with magical elements, including floating candles and a backdrop resembling Hogwarts castle. Actors dressed as iconic characters like Harry, Hermione, and Ron are mid-performance, engaging in a dynamic scene filled with magic and enchantment. The audience, a diverse group of families and friends of various ages, is captivated, some with expressions of awe and excitement, while others enjoy snacks. The theater is beautifully decorated, with ornate details and rich colors, and spotlight beams illuminate the stage, creating a warm and inviting atmosphere.\n"
     ]
    }
   ],
   "source": [
    "from langchain_core.output_parsers import StrOutputParser\n",
    "from langchain_core.prompts import PromptTemplate\n",
    "from langchain_openai import ChatOpenAI\n",
    "\n",
    "# initialize \n",
    "llm = ChatOpenAI(model=\"gpt-4o-mini\", temperature=0.9, max_tokens=1000)\n",
    "\n",
    "# Define the prompt for the DALL-E image generation \n",
    "prompt = PromptTemplate.from_template(\n",
    "    \"Generate a detailed IMAGE GENERATION prompt for DALL-E based on the following description\"\n",
    "    \"Return only the prompt, no intro, no explanation, no chatty, no markdown, no code block, no nothing. Just the prompt.\"\n",
    "    \"Output should be less than 1000 characters. Write in English only.\"\n",
    "    \"Image Description : \\n{image_desc}\"\n",
    ")\n",
    "\n",
    "# create chain\n",
    "chain = prompt | llm | StrOutputParser() \n",
    "\n",
    "# invoke chain\n",
    "image_prompt = chain.invoke(\n",
    "    {\"image_desc\" : \"A theater with a stage which is performing the musical of 'Harry Potter' and a large audience\"}\n",
    ")\n",
    "\n",
    "print(image_prompt)\n"
   ]
  },
  {
   "cell_type": "markdown",
   "metadata": {},
   "source": [
    "이제 이미지를 생성해보자."
   ]
  },
  {
   "cell_type": "code",
   "execution_count": null,
   "metadata": {},
   "outputs": [],
   "source": [
    "# DallEAPIWrapper 버그로 인한 임시 버전 다운그레이드 명령어 (실행 후 restart)\n",
    "# ! pip uninstall langchain==0.2.16 langchain-community==0.2.16 langchain-text-splitters==0.2.4 langchain-experimental==0.0.65 langchain-openai==0.1.20\n",
    "! pip install langchain langchain-community langchain-text-splitters langchain-experimental langchain-openai"
   ]
  },
  {
   "cell_type": "code",
   "execution_count": null,
   "metadata": {},
   "outputs": [],
   "source": [
    "# Bring the DALL-E API Wrapper\n",
    "from langchain_community.utilities.dalle_image_generator import DallEAPIWrapper\n",
    "\n",
    "from IPython.display import Image\n",
    "import os\n",
    "\n",
    "# initialize the DALL-E API Wrapper\n",
    "dalle = DallEAPIWrapper(\n",
    "    model=\"dall-e-3\",   # model: 사용할 DALL-E 모델 버전\n",
    "    size=\"1024x1024\",   # size: 생성할 이미지 크기\n",
    "    quality=\"standard\",  # quality: 생성할 이미지 품질\n",
    "    n=1,  # n: 생성할 이미지 수\n",
    ")\n",
    "\n",
    "# query\n",
    "query = \"A theater with a stage which is performing the musical of 'Harry Potter' and a large audience\"\n",
    "\n",
    "# create image and get the url\n",
    "image_url = dalle.run(chain.invoke({\"image_desc\" : query}))\n",
    "\n",
    "# display the image\n",
    "Image(url=image_url)"
   ]
  },
  {
   "cell_type": "markdown",
   "metadata": {},
   "source": [
    "\n",
    "![](https://velog.velcdn.com/images/looa0807/post/0e58bc26-0e5f-46f5-8fb1-3f9467dabcde/image.png)\n"
   ]
  },
  {
   "cell_type": "markdown",
   "metadata": {},
   "source": [
    "## 사용자 정의 도구(Custom Tool)\n",
    "Langchain에서 제공하는 도구를 사용하는 것 외에도 사용자 정의 도구를 만들어 사용할 수 있다.\n",
    "이를 위해 `langchain.tools` 모듈의 `tool` 데코레이터를 사용하여 함수를 도구로 변환.\n",
    "\n",
    "### @tool Decorator\n",
    "`@tool` 데코레이터는 함수를 도구로 변환하는 기능을 갖고있다. 다양한 옵션을 이용하여 도구의 동작을 정의할 수 있다.\n",
    "이는 일반 Python 함수를 도구로 쉽게 변환이 가능하여, 자동화된 문서와 유연한 인터페이스 생성이 가능하다.\n",
    "\n",
    "- instructions\n",
    "    1. 함수 위에 `@tool` 데코레이터 적용\n",
    "    2. 필요에 따라 데코레이터 매개변수 설정\n",
    "\n"
   ]
  },
  {
   "cell_type": "code",
   "execution_count": 117,
   "metadata": {},
   "outputs": [],
   "source": [
    "from langchain.tools import tool\n",
    "\n",
    "# change function to tool\n",
    "@tool\n",
    "def add_numbers(a: int, b: int) -> int:\n",
    "    \"\"\"Add two numbers\"\"\"\n",
    "    return a + b\n",
    "\n",
    "\n",
    "@tool\n",
    "def multiply_numbers(a: int, b: int) -> int:\n",
    "    \"\"\"Multiply two numbers\"\"\"\n",
    "    return a * b"
   ]
  },
  {
   "cell_type": "code",
   "execution_count": 119,
   "metadata": {},
   "outputs": [
    {
     "data": {
      "text/plain": [
       "3"
      ]
     },
     "execution_count": 119,
     "metadata": {},
     "output_type": "execute_result"
    }
   ],
   "source": [
    "add_numbers.invoke({\"a\": 1, \"b\": 2})"
   ]
  },
  {
   "cell_type": "code",
   "execution_count": 120,
   "metadata": {},
   "outputs": [
    {
     "data": {
      "text/plain": [
       "2"
      ]
     },
     "execution_count": 120,
     "metadata": {},
     "output_type": "execute_result"
    }
   ],
   "source": [
    "multiply_numbers.invoke({\"a\": 1, \"b\": 2})"
   ]
  },
  {
   "cell_type": "code",
   "execution_count": 121,
   "metadata": {},
   "outputs": [],
   "source": [
    "! pip install -qU langchain-teddynote"
   ]
  },
  {
   "cell_type": "code",
   "execution_count": 122,
   "metadata": {},
   "outputs": [],
   "source": [
    "from langchain_teddynote.tools import GoogleNews\n",
    "\n",
    "# create tool\n",
    "news_tool = GoogleNews()"
   ]
  },
  {
   "cell_type": "code",
   "execution_count": 123,
   "metadata": {},
   "outputs": [
    {
     "data": {
      "text/plain": [
       "[{'url': 'https://news.google.com/rss/articles/CBMiakFVX3lxTE04V2xZMFl1X3ZqT1dGM2ZiUUxEN0NhRmdJeG51bDNXYm1PWl9VdU9CTFZpUlpWbzdvdHZxbWpXM0RNOEpoTXJ2NWIzLUhkaE5hMkdjMDFSMDNOQzJ1QzJCaWJodnBjcXRGMWc?oc=5',\n",
       "  'content': '권영세 “‘공수처 굴종’ 검찰총장 사퇴하라”…국힘, 검찰 일제히 비판 - 한겨레'},\n",
       " {'url': 'https://news.google.com/rss/articles/CBMilwFBVV95cUxNVGpnRFFNTUNmWHNZWFBwcXBsMG8zRy1DSVFqNDRzazF0U0Y1UFZoOWFldkhiZXlfdGEzVzN3RmJZLTV3dGZKUV9BTWhvLS0wOEhqMjZQb2VCMTdhcDFhcktkTkFlQ2pVd25Ha3VGWFh1TFdxTWVqd2RCelBvOENkbkhhcHdLb0psbUx2bl9RQTdNZVZTeHVz0gGrAUFVX3lxTE1lOWxDNmdtVnFieDdzdWtabzZqM0xVUktTTksyQmVCa3gyM1ZoUVZCdGFZRHdhNVZVTE5IUk9rWUJxOXdvUHlOVG15RW9kbmRYQkl6dm56LWdlTUs5SWhndFAyVk4zN09kcU5ZRF9WTVcza3gzR1JObmQ1Zi1KckZuUFpUenRGNFQtU08tVmJKLTVFY3IwNzBuS0lnMk1MdHFHbXI3SGNGXzVBZw?oc=5',\n",
       "  'content': '폭설 없던 설 연휴…이례적 대설 내리는 이유는 - 조선일보'},\n",
       " {'url': 'https://news.google.com/rss/articles/CBMiWkFVX3lxTFBlU1dkT3ZiT3hWSkdMX09SWnE3WVdsWC0wdS00THZXR0F3Q19PNk9qaFpmN2pNU3lKS0J1cjJkYUJwaUpsMG1ZcGlVNUMwMkY0UG1FbnYzWFphd9IBVEFVX3lxTE1qaV91Slh1WDdBU2dfX2NEYUJhSDFBLXpndTBwbkJSNnptamtodnNqOVZjeUxHU0wyMWgxb2llTkd0R08xbm9PYVNDWTBCMzdocHBmZA?oc=5',\n",
       "  'content': '\"부정선거 의혹, 음지에서 양지로\"?…심상찮은 분위기 [이슈+] - 한국경제'}]"
      ]
     },
     "execution_count": 123,
     "metadata": {},
     "output_type": "execute_result"
    }
   ],
   "source": [
    "# Search news\n",
    "news_tool.search_latest(k=3)"
   ]
  },
  {
   "cell_type": "code",
   "execution_count": 125,
   "metadata": {},
   "outputs": [
    {
     "data": {
      "text/plain": [
       "[{'url': 'https://news.google.com/rss/articles/CBMiU0FVX3lxTE54bzhUUm5kMmNRZE1Rcmplb2s4Ukl0aFNuRjQ4d1JlbnE2NW1ibVc2ZEhxMVJtR2pERjNfajNwYm1pU2JhR1FrN1pSeUdfRmowUVF3?oc=5',\n",
       "  'content': '트럼프 눈 밖에 나지 않기 위해?…빅테크, 천문학적 AI 투자 발표 - 네이트 뉴스'},\n",
       " {'url': 'https://news.google.com/rss/articles/CBMigAFBVV95cUxPTmtqS0xaS1ZoY21kQkU2UktLbnFSakYydE9tRG5tbFZEUWZWaDlOdkJJenJkaTdkRkZOWEg3SmdTSS1CRU1pNHN6ZTFNQ3B4S3BJR0RaR3RZQ2puU01qd042Mm1ROWdxRVh6Y3RxeHpIb1VrR1lUUTVIWTBuTmlRSQ?oc=5',\n",
       "  'content': '[美증시프리뷰]제프리즈 \"딥시크 여파로 AI 설비 투자 감소할수도\" - 이데일리'},\n",
       " {'url': 'https://news.google.com/rss/articles/CBMiiAFBVV95cUxNbFhCblQyUnF1NXF5Q2FQRHBmdGZGS3ZUSFBTMUdZZ2tyQUU2VHBfWHRqYXJ3TEdkOUc1VHI4YnFPUkpUZncyT2xEZ1ZpX29KV2hIa2hCcFFwUGRVQlB3YzVlVjJOT0wydjVvTENoM0N4cnppaFF6UFpiNmJ2RWhGOUFPVERpRUZS?oc=5',\n",
       "  'content': \"AI 투자 붐, 글로벌 ‘신디케이트론’ 시장 견인...2024년 6조 달러 돌파 '사상 최대' - 글로벌이코노믹\"}]"
      ]
     },
     "execution_count": 125,
     "metadata": {},
     "output_type": "execute_result"
    }
   ],
   "source": [
    "# Search news using keyword\n",
    "news_tool.search_by_keyword(\"AI 투자\", k=3)\n"
   ]
  },
  {
   "cell_type": "code",
   "execution_count": 127,
   "metadata": {},
   "outputs": [],
   "source": [
    "from langchain_teddynote.tools import GoogleNews\n",
    "from langchain_core.tools import tool\n",
    "from typing import List, Dict\n",
    "\n",
    "# create tool as a searching news with keyword\n",
    "@tool\n",
    "def search_keyword_news(query: str) -> List[Dict[str,str]]:\n",
    "    \"\"\"Search news with keyword\"\"\"\n",
    "    print(query)\n",
    "    news_tool = GoogleNews()\n",
    "    return news_tool.search_by_keyword(query, k=3)\n",
    "\n",
    "# invoke tool\n",
    "# print(search_keyword_news.invoke(\"AI 투자\"))"
   ]
  },
  {
   "cell_type": "code",
   "execution_count": 128,
   "metadata": {},
   "outputs": [
    {
     "name": "stdout",
     "output_type": "stream",
     "text": [
      "한국 정치 현황\n"
     ]
    },
    {
     "data": {
      "text/plain": [
       "[{'url': 'https://news.google.com/rss/articles/CBMiWkFVX3lxTE5nOG43RElxREdRcFYtenpDeHR4ZVNGR185YmhnYVg2TkUyMXRONG80a0NRNWRKVWVrUGRCV2ZxdnJUaWlXa0VSQ0t6TU93ZVBIdUlvbGppV3puZ9IBVkFVX3lxTE0tQjR4UHZWQnp4cXFUOGpTY3dBTVo0b1ZZQkZwUnhWTkJmNm9vOFdPN2pLdzA5YTlEZkVrNTEtYk1WWkVLODIyN0wxVGNXdEgxejF1eVlB?oc=5',\n",
       "  'content': '나경원 트럼프 취임식서 한국 정치현황 알릴 것 - 아주경제'},\n",
       " {'url': 'https://news.google.com/rss/articles/CBMiU0FVX3lxTE1aTHl2b0RvcWQyVGpyTTdsbEJuc1RLQzltNFBzYXhsRGJDR1NCYUNkeW1FejlTZGVlSWg3VUlQZVZyTnNWejlSWUViZmpxSmhTQWgw?oc=5',\n",
       "  'content': '김동연, 미디어리더들과 대화…한국 정치·경제 통찰 공유 - 네이트 뉴스'},\n",
       " {'url': 'https://news.google.com/rss/articles/CBMiXEFVX3lxTE9Ddmo2bW1wcW1FaVNKSjRRdVNnUGduOS1RN2h0Qlg4WWZlLVlJRzVOTXBqWTBQdXR6MDlqSXRNTWJLUDRzU25uMVYySzVJMVN6Mld6VmFmaVFydzNy0gFTQVVfeXFMUDZFYXBvUjF2UlcxNHJRVnByaHBDazg1QS1zZFRSSk00aGxzcFJOZlJwcGJweHJDaE45UEVYMHh2Z0hXOTlSQXk5SXA0aFhFVThhemM?oc=5',\n",
       "  'content': '다보스서 엘 고어 만난 김동연, 계엄 이후 한국 정치·경제 회복 탄력성 강조 - KPI뉴스'}]"
      ]
     },
     "execution_count": 128,
     "metadata": {},
     "output_type": "execute_result"
    }
   ],
   "source": [
    "# result\n",
    "search_keyword_news.invoke({\"query\": \"한국 정치 현황\"})"
   ]
  },
  {
   "cell_type": "code",
   "execution_count": null,
   "metadata": {},
   "outputs": [],
   "source": []
  }
 ],
 "metadata": {
  "kernelspec": {
   "display_name": "test_langchain",
   "language": "python",
   "name": "python3"
  },
  "language_info": {
   "codemirror_mode": {
    "name": "ipython",
    "version": 3
   },
   "file_extension": ".py",
   "mimetype": "text/x-python",
   "name": "python",
   "nbconvert_exporter": "python",
   "pygments_lexer": "ipython3",
   "version": "3.12.7"
  }
 },
 "nbformat": 4,
 "nbformat_minor": 2
}
