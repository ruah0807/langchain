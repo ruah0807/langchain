{
 "cells": [
  {
   "cell_type": "markdown",
   "metadata": {},
   "source": [
    "# 도구(tools)\n",
    "## LLM에 도구를 바인딩하는 방법(Binding Tools to LLM)\n",
    "\n",
    "LLM이 tool을 호출할수 있기 위해 chat 요청을 할 때 모델에 tool schema를 전달해야한다.\n",
    "tool calling 기능을 지원하는 Langchain Chat Model은 `.bind_tools()` 메서드를 구현하여 LangChain 도구객체, Pydantic 클래스 또는 json schema를 수신하고 공급자별 예상 형식으로 채팅 모델에 바인딩할 수 있다.\n",
    "\n",
    "바인딩 된 Chat model의 이후 호출은 모델 API에 대한 모든 호출에 tool schema를 포함하여 모델에 전달된다.\n",
    "\n",
    "1. 도구 정의\n",
    "2. 도구 바인딩\n",
    "3. 도구 사용\n"
   ]
  },
  {
   "cell_type": "code",
   "execution_count": 1,
   "metadata": {},
   "outputs": [
    {
     "data": {
      "text/plain": [
       "True"
      ]
     },
     "execution_count": 1,
     "metadata": {},
     "output_type": "execute_result"
    }
   ],
   "source": [
    "from dotenv import load_dotenv\n",
    "\n",
    "load_dotenv()\n"
   ]
  },
  {
   "cell_type": "markdown",
   "metadata": {},
   "source": [
    "### LLM에 바인딩할 Tool 정의\n",
    "\n",
    "tool을 정의\n",
    "- `get_word_length` : 문자열의 길이를 반환하는 함수\n",
    "- `add_function` : 두 숫자를 더하는 함수\n",
    "- `naver_news_crawler` : 네이버 뉴스 크롤링 반환 함수\n",
    "\n",
    "참고로 도구를 정의할 때 @tool 데코레이터를 사용하여 도구를 정의할 수 있고, docstring은 가급적 영어로 작성하는것을 권장."
   ]
  },
  {
   "cell_type": "code",
   "execution_count": 22,
   "metadata": {},
   "outputs": [],
   "source": [
    "import re\n",
    "import requests\n",
    "from bs4 import BeautifulSoup\n",
    "from langchain.agents import tool\n",
    "\n",
    "# define tool\n",
    "@tool\n",
    "def get_word_length(text: str) -> int:\n",
    "    \"\"\"Returns the number of words in the text\"\"\"\n",
    "    return len(text)\n",
    "\n",
    "@tool\n",
    "def add_function(a: float, b: float) -> float:\n",
    "    \"\"\"Add two numbers together\"\"\"\n",
    "    return a + b\n",
    "\n",
    "@tool\n",
    "def naver_news_crawler(news_url: str) -> str:\n",
    "    \"\"\"Crawls a 네이버 (naver.com) news article and returns the body content.\"\"\"\n",
    "    # HTTP GET 요청 보내기\n",
    "    response = requests.get(news_url)\n",
    "\n",
    "    # 요청이 성공했는지 확인\n",
    "    if response.status_code == 200:\n",
    "        # BeautifulSoup을 사용하여 HTML 파싱\n",
    "        soup = BeautifulSoup(response.text, \"html.parser\")\n",
    "\n",
    "        # 원하는 정보 추출\n",
    "        title = soup.find(\"h2\", id=\"title_area\").get_text()\n",
    "        content = soup.find(\"div\", id=\"contents\").get_text()\n",
    "        cleaned_title = re.sub(r\"\\n{2,}\", \"\\n\", title)\n",
    "        cleaned_content = re.sub(r\"\\n{2,}\", \"\\n\", content)\n",
    "    else:\n",
    "        print(f\"HTTP 요청 실패. 응답 코드: {response.status_code}\")\n",
    "\n",
    "    return f\"{cleaned_title}\\n{cleaned_content}\"\n",
    "\n",
    "tools = [get_word_length, add_function, naver_news_crawler]"
   ]
  },
  {
   "cell_type": "markdown",
   "metadata": {},
   "source": [
    "### bind_tools()로 llm에 도구 바인딩\n",
    "\n",
    "LLM모델에 `bind_tools()` 메서드를 사용하여 도구를 바인딩할 수 있다."
   ]
  },
  {
   "cell_type": "code",
   "execution_count": 23,
   "metadata": {},
   "outputs": [],
   "source": [
    "from langchain_openai import ChatOpenAI\n",
    "\n",
    "# create llm model\n",
    "llm = ChatOpenAI(model=\"gpt-4o-mini\", temperature=0.65)\n",
    "\n",
    "# bind tools\n",
    "llm_with_tools = llm.bind_tools(tools)\n"
   ]
  },
  {
   "cell_type": "markdown",
   "metadata": {},
   "source": [
    "이제 실행결과를 확인하자.\n",
    "결과는 `tool_calls`에 저장이되고, `.tool_calls` 속성을 통해 호출 결과를 확인할 수 있다.\n",
    "\n",
    "- `name` : 도구 이름\n",
    "- `args` : 도구 인자"
   ]
  },
  {
   "cell_type": "code",
   "execution_count": 24,
   "metadata": {},
   "outputs": [
    {
     "data": {
      "text/plain": [
       "[{'name': 'get_word_length',\n",
       "  'args': {'text': 'RuahKim'},\n",
       "  'id': 'call_pXOqsWiqxL8fpNIB7rOqkS3t',\n",
       "  'type': 'tool_call'}]"
      ]
     },
     "execution_count": 24,
     "metadata": {},
     "output_type": "execute_result"
    }
   ],
   "source": [
    "# result\n",
    "# llm_with_tools.invoke(\"What is the length of the word `RuahKim`?\").tool_calls\n",
    "llm_with_tools.invoke(\"What is the length of the word `RuahKim`?\").tool_calls\n",
    "\n"
   ]
  },
  {
   "cell_type": "markdown",
   "metadata": {},
   "source": [
    "위의 코드는 결과는 반환이 되지않고 어떤 tool을 호출했는지 확인할 수 있다.\n",
    "\n",
    "이를 해결하기 위해 `llm_with_tools`와 `JsonOutputToolsParser`를 연결하여 `tool_calls`를 파싱하고 결과를 출력할수있다.\n",
    "\n"
   ]
  },
  {
   "cell_type": "code",
   "execution_count": 25,
   "metadata": {},
   "outputs": [
    {
     "data": {
      "text/plain": [
       "[{'args': {'text': 'RuahKim'}, 'type': 'get_word_length'}]"
      ]
     },
     "execution_count": 25,
     "metadata": {},
     "output_type": "execute_result"
    }
   ],
   "source": [
    "from langchain_core.output_parsers.openai_tools import JsonOutputToolsParser\n",
    "\n",
    "# binding tool + parser\n",
    "chain = llm_with_tools | JsonOutputToolsParser(tools = tools)\n",
    "\n",
    "# 실행 결과\n",
    "tool_call_results = chain.invoke(\"What is the length of the word `RuahKim`?\")\n",
    "\n",
    "tool_call_results"
   ]
  },
  {
   "cell_type": "markdown",
   "metadata": {},
   "source": [
    "여기서 출력된 `type`은 호출된 tool(호출함수)이고, `args`는 호출된 함수(도구)에 전달되는 인자이다.\n"
   ]
  },
  {
   "cell_type": "code",
   "execution_count": 26,
   "metadata": {},
   "outputs": [
    {
     "name": "stdout",
     "output_type": "stream",
     "text": [
      "[{'args': {'text': 'RuahKim'}, 'type': 'get_word_length'}]\n",
      "\n",
      "==========\n",
      "\n",
      "get_word_length\n",
      "{'text': 'RuahKim'}\n"
     ]
    }
   ],
   "source": [
    "print(tool_call_results, end=\"\\n\\n==========\\n\\n\")\n",
    "# 첫 번째 도구 호출 결과\n",
    "single_result = tool_call_results[0]\n",
    "# 도구 이름\n",
    "print(single_result[\"type\"])\n",
    "# 도구 인자\n",
    "print(single_result[\"args\"])\n"
   ]
  },
  {
   "cell_type": "markdown",
   "metadata": {},
   "source": [
    "도구 이름과 일치하는 도구를 찾아 실행"
   ]
  },
  {
   "cell_type": "code",
   "execution_count": 12,
   "metadata": {},
   "outputs": [
    {
     "data": {
      "text/plain": [
       "('get_word_length', 'get_word_length')"
      ]
     },
     "execution_count": 12,
     "metadata": {},
     "output_type": "execute_result"
    }
   ],
   "source": [
    "tool_call_results[0][\"type\"], tools[0].name"
   ]
  },
  {
   "cell_type": "code",
   "execution_count": 27,
   "metadata": {},
   "outputs": [
    {
     "name": "stdout",
     "output_type": "stream",
     "text": [
      "[도구 이름] get_word_length [Argument] {'text': 'RuahKim'}\n",
      "[결과] 7\n"
     ]
    }
   ],
   "source": [
    "def execute_tool_calls(tool_call_results):\n",
    "    \"\"\"\n",
    "    도구 호출 결과를 실행하는 함수\n",
    "    :param tool_call_results: 도구 호출 결과 리스트\n",
    "    :param tools: 사용 가능한 도구 리스트\n",
    "    \"\"\"\n",
    "    # Iterate through the list of tool call results\n",
    "    for tool_call_result in tool_call_results:\n",
    "        # 도구의 이름과 인자 추출\n",
    "        tool_name = tool_call_result[\"type\"] # 도구 이름(함수)\n",
    "        tool_args = tool_call_result[\"args\"] # 도구에 전달되는 인자\n",
    "\n",
    "        # 도구 이름과 일치하는 도구를 찾아 실행\n",
    "        # next() 함수를 사용하여 일치하는 첫번째 도구를 찾음\n",
    "        matching_tool= next((tool for tool in tools if tool.name == tool_name), None)\n",
    "\n",
    "        if matching_tool:\n",
    "            # 일치하는 도구를 찾았다면 해당 도구 실행\n",
    "            result = matching_tool.invoke(tool_args)\n",
    "            print(f\"[도구 이름] {tool_name} [Argument] {tool_args}\\n[결과] {result}\")\n",
    "        else:\n",
    "            print(f\"일치하는 도구를 찾을 수 없습니다: {tool_name}\")\n",
    "\n",
    "execute_tool_calls(tool_call_results)"
   ]
  },
  {
   "cell_type": "markdown",
   "metadata": {},
   "source": [
    "### bind_tools + Parser + Execution 한번에 실행하기\n",
    "\n",
    "#### 모든 과정을 한번에 실행하는 방법\n",
    "- `llm_with_tools` : 도구 바인딩 모델\n",
    "- `JsonOutputToolsParser` : 도구 호출 결과를 파싱하는 파서\n",
    "- `execute_tool_calls` : 도구 호출 결과를 실행하는 함수\n",
    "\n",
    "#### Flow\n",
    "1. 모델에 도구 바인딩\n",
    "2. 도구 호출 결과를 파싱\n",
    "3. 도구 호출 결과를 실행\n",
    "\n"
   ]
  },
  {
   "cell_type": "code",
   "execution_count": 39,
   "metadata": {},
   "outputs": [],
   "source": [
    "from langchain_core.output_parsers.openai_tools import JsonOutputToolsParser\n",
    "\n",
    "chain = llm_with_tools | JsonOutputToolsParser(tools = tools) | execute_tool_calls "
   ]
  },
  {
   "cell_type": "code",
   "execution_count": 29,
   "metadata": {},
   "outputs": [
    {
     "name": "stdout",
     "output_type": "stream",
     "text": [
      "[도구 이름] get_word_length [Argument] {'text': 'RuahKim'}\n",
      "[결과] 7\n"
     ]
    }
   ],
   "source": [
    "# get_word_length 실행 결과\n",
    "chain.invoke(\"What is the length of the word `RuahKim`?\")\n"
   ]
  },
  {
   "cell_type": "code",
   "execution_count": 30,
   "metadata": {},
   "outputs": [
    {
     "name": "stdout",
     "output_type": "stream",
     "text": [
      "[도구 이름] add_function [Argument] {'a': 114.5, 'b': 121.2}\n",
      "[결과] 235.7\n",
      "235.7\n"
     ]
    }
   ],
   "source": [
    "# add_function 실행 결과\n",
    "chain.invoke(\"114.5 + 121.2\")\n",
    "print(114.5 + 121.2)"
   ]
  },
  {
   "cell_type": "code",
   "execution_count": 40,
   "metadata": {},
   "outputs": [
    {
     "name": "stdout",
     "output_type": "stream",
     "text": [
      "[도구 이름] naver_news_crawler [Argument] {'news_url': 'https://n.news.naver.com/mnews/article/008/0005146446'}\n",
      "[결과] 1년에 '13억' 번 상위 1% 유튜버들…\"계좌로 후원, 꼼수 탈세 막아야\"\n",
      "\n",
      "[the300]\n",
      "(광주=뉴스1) 김태성 기자 = 정일영 더불어민주당 의원이 24일 정부광주지방합동청사에서 열린 국회 기획재정위원회 광주지방국세청 국정감사에서 질의하고 있다.2024.10.24/뉴스1  Copyright (C) 뉴스1. All rights reserved. 무단 전재 및 재배포,  AI학습 이용 금지. /사진=(광주=뉴스1) 김태성 기자유튜버나 BJ(인터넷 방송 진행자) 가운데 상위 1%의 평균 한 해 수입이 13억원이 넘는다는 조사결과가 나왔다. 정일영 더불어민주당 의원이 27일 국세청으로부터 제출받은 자료에 따르면 지난해 유튜버, BJ 등 1인 미디어 창작자가 신고한 '2023년 수입금액'은 총 1조7861억원으로 나타났다. 정 의원실에 따르면 2023년 기준 1인 미디어 창작자로 수입을 신고한 인원은 총 2만4797명이었다. 신고 인원은 2019년 1327명에서 2020년 9449명으로 급증했다. 2021년에는 1만6294명, 2022년에는 1만9290명으로 해마다 늘어나는 추세다.  이들이 신고한 연간 수입금액도 증가 추세다. 총 수입액은 2019년 1011억원에서 2020년 5339억원, 2021년 1조83억원, 2022년 1조4537억원으로 집계됐다. 코로나19(COVID-19) 유행기를 거치며 유튜브와 같은 온라인 영상 플랫폼 시장이 확대되고 1인 미디어 창작자가 증가한 영향으로 해석됐다. 1인 미디어 창작자 수입 상위 1%에 해당하는 247명의 총 수입은 3271억원이었다. 이는 전체 수입의 18.3%다. 1인당 연간 평균 13억2500만원을 번 셈이다. 이는 4년 전 2019년 상위 1%의 평균 수입(978억원)보다 35.5% 늘어난 수치다. 또 1인 미디어 상위 10%인 2479명의 총 수입은 8992억원으로 1인당 평균 수입은 3억6200만원이었다. 정 의원은 \"1인 미디어 시장 규모가 커지면서 영상 조회수를 높여 광고, 개인 후원 등 수입을 늘리기 위한 극단적이고 자극적인 콘텐츠 생산이 늘어나고 있다\"며 \"최근 정치 유튜버를 비롯하여 일반적인 유튜버들 사이에서도 사실을 왜곡하거나 극단적인 표현을 사용하는 행태가 지난 12.3 내란 이후 더욱 늘어나 우려스럽다\"고 밝혔다. 이어 \"유튜버·BJ 등 연수입이 매년 급격하게 늘어나고 있는데도 불구하고 세무조사 건수는 최근 3년 동안 거의 증가하지 않고 있으므로 강력한 세무조사를 촉구한다\"고 했다.정 의원 측은 또 \"3억원 이상 수입을 내는 상위 10%의 유튜버들이 동영상 자막 등에 개인계좌를 표기해서 후원을 유도하는 경우 편법적 탈세를 막을 수 없을 것\"이라며 \"자극적이고 극단적인 콘텐츠 양산을 막기 위해서라도 국세청은 강도 높은 세무조사를 체계적이고 전면적으로 설계해 실시해야 할 것\"이라고 밝혔다. \n",
      "김성은 기자 (gttsw@mt.co.kr)\n",
      "기자 프로필\n",
      "머니투데이\n",
      "머니투데이\n",
      "김성은 기자\n",
      "구독\n",
      "구독중\n",
      "구독자 0\n",
      "응원수\n",
      "0\n",
      "이재명, 첫 고속터미널 귀성인사...셀카 찍고 \"잘 다녀오세요\"\n",
      "'금배지' 뺀 류호정 깜짝 근황…\"목수로 취업, 전직과 이직 그만\"\n",
      "머니투데이의 구독 많은 기자를 구독해보세요!\n",
      "닫기\n",
      "Copyright ⓒ 머니투데이. All rights reserved. 무단 전재 및 재배포, AI 학습 이용 금지.\n",
      " \n",
      "이 기사는 언론사에서 정치 섹션으로 분류했습니다.\n",
      "기사 섹션 분류 안내\n",
      "기사의 섹션 정보는 해당 언론사의 분류를 따르고 있습니다. 언론사는 개별 기사를 2개 이상 섹션으로 중복 분류할 수 있습니다.\n",
      "닫기\n",
      "구독\n",
      "메인에서 바로 보는 언론사 편집 뉴스 지금 바로 구독해보세요!\n",
      "구독중\n",
      "메인에서 바로 보는 언론사 편집 뉴스 지금 바로 확인해보세요!\n",
      "통찰과 깊이가 다른 국제시사 · 문예 매거진 [PADO]\n",
      "QR 코드를 클릭하면 크게 볼 수 있어요.\n",
      "QR을 촬영해보세요.\n",
      "통찰과 깊이가 다른 국제시사 · 문예 매거진 [PADO]\n",
      "닫기\n",
      "70돌 된 미피의 생일 기념전에 초대합니다\n",
      "QR 코드를 클릭하면 크게 볼 수 있어요.\n",
      "QR을 촬영해보세요.\n",
      "70돌 된 미피의 생일 기념전에 초대합니다\n",
      "닫기\n",
      "머니투데이\n",
      "머니투데이\n",
      "\t\t\t주요뉴스해당 언론사에서 선정하며 언론사 페이지(아웃링크)로 이동해 볼 수 있습니다.\n",
      "전한길 \"난 노사모 출신\"…노무현재단 \"법적 대응\"\n",
      "\"이따 얘기해\"…김종민, 예비신부에 '재방료' 들통\n",
      "\"다른 남자와 잠자리 강요\"…이혼 변호사도 당황\n",
      "'상습도박' 슈, SES 자료화면서 모자이크 '굴욕'\n",
      "집 곳곳에 커플사진?…지상렬, 동거녀 공개\n",
      "이 기사를 추천합니다\n",
      "기사 추천은 24시간 내 50회까지 참여할 수 있습니다.\n",
      "닫기\n",
      "쏠쏠정보\n",
      "0\n",
      "흥미진진\n",
      "0\n",
      "공감백배\n",
      "0\n",
      "분석탁월\n",
      "0\n",
      "후속강추\n",
      "0\n",
      " \n",
      "모두에게 보여주고 싶은 기사라면?beta\n",
      "이 기사를 추천합니다 버튼을 눌러주세요.  집계 기간 동안 추천을 많이 받은 기사는 네이버 자동 기사배열 영역에 추천 요소로 활용됩니다.\n",
      "레이어 닫기\n",
      " \n",
      "머니투데이 언론사가 직접 선정한 이슈\n",
      "\t\t\t\n",
      "이슈\n",
      "트럼프 2.0 시대\n",
      "트럼프 사인 전 물러선 콜롬비아…백악관 \"관세와 제재 보류\"\n",
      "이슈\n",
      "尹대통령 탄핵 심판\n",
      "尹 탄핵 정국에도 與 지지율, 민주당과 초접전…박근혜 때와 뭐가 다른가\n",
      "이슈\n",
      "더 거칠어진 김정은\n",
      "트럼프 보란듯 기싸움 택한 김정은…추석 이어 설에 또 미사일 쐈다\n",
      "이슈\n",
      "가자지구 휴전\n",
      "하마스, 이스라엘 여군 인질 4명 석방…적십자사에 넘겨\n",
      "이슈\n",
      "봉합 안되는 의대증원 갈등\n",
      "정부 '당근'에도 전공의 꿈쩍 안 했다…2.2%만 복귀 모집 지원\n",
      "이전\n",
      "다음\n",
      "머니투데이 언론사홈 바로가기\n",
      " \n",
      "기자 구독 후 기사보기\n",
      "구독 없이 계속 보기\n",
      "\n"
     ]
    }
   ],
   "source": [
    "# naver_news_crawler 실행 결과\n",
    "chain.invoke(\n",
    "    \"뉴스 기사 크롤링해줘: https://n.news.naver.com/mnews/article/008/0005146446\"\n",
    ")"
   ]
  },
  {
   "cell_type": "markdown",
   "metadata": {},
   "source": [
    "## bind_tools -> Agent & AgentExecutor로 대체\n",
    "`bind_tools()` 는 모델에 사용할 수 있는 스키마(도구)를 제공한다.\n",
    "\n",
    "AgentExecutor 는 실제로 llm 호출, 올바른 도구로 라우팅, 실행, 모델 재호출 등을 위한 실행 루프를 생성한다.\n",
    "\n",
    "> Agent 와 AgentExecutor 에 대해서는 다음 장에서 자세히 다루게 될 것이다."
   ]
  },
  {
   "cell_type": "code",
   "execution_count": 44,
   "metadata": {},
   "outputs": [],
   "source": [
    "from langchain_core.prompts import ChatPromptTemplate, MessagesPlaceholder\n",
    "from langchain_openai import ChatOpenAI\n",
    "\n",
    "# create Agent prompt template\n",
    "agent_prompt = ChatPromptTemplate.from_messages([\n",
    "    (\n",
    "        \"system\",\n",
    "        \"You are very poserful assistant, but don't know current events.\"\n",
    "    ),\n",
    "    (\"user\", \"{input}\"),\n",
    "                                        #agent_scratchpad : 모델의 출력을 저장하는 변수(메모장 같은 역할을한다)\n",
    "     MessagesPlaceholder(variable_name= \"agent_scratchpad\")\n",
    "])\n",
    "\n",
    "# create model\n",
    "llm = ChatOpenAI(model=\"gpt-4o-mini\", temperature=0.65)\n",
    "\n",
    "\n",
    "\n",
    "\n",
    "\n",
    "\n",
    "\n",
    "from langchain.agents import AgentExecutor, create_tool_calling_agent\n",
    "\n",
    "# 이전에 정의한 도구 사용\n",
    "tools = [get_word_length, add_function, naver_news_crawler]\n",
    "\n",
    "# create agent\n",
    "agent = create_tool_calling_agent(llm, tools, agent_prompt)\n",
    "\n",
    "# AgentExecutor 생성\n",
    "agent_executor = AgentExecutor(\n",
    "    agent=agent,\n",
    "    tools=tools,\n",
    "    verbose=True,\n",
    "    handle_parsing_errors=True,\n",
    ")\n"
   ]
  },
  {
   "cell_type": "code",
   "execution_count": 45,
   "metadata": {},
   "outputs": [
    {
     "name": "stdout",
     "output_type": "stream",
     "text": [
      "\n",
      "\n",
      "\u001b[1m> Entering new AgentExecutor chain...\u001b[0m\n",
      "\u001b[32;1m\u001b[1;3m\n",
      "Invoking: `get_word_length` with `{'text': 'RuahKim'}`\n",
      "\n",
      "\n",
      "\u001b[0m\u001b[36;1m\u001b[1;3m7\u001b[0m\u001b[32;1m\u001b[1;3mThe length of the word \"RuahKim\" is 7 letters.\u001b[0m\n",
      "\n",
      "\u001b[1m> Finished chain.\u001b[0m\n",
      "The length of the word \"RuahKim\" is 7 letters.\n"
     ]
    }
   ],
   "source": [
    "# get_word_length 실행\n",
    "result = agent_executor.invoke({\"input\" : \"What is the length of the word `RuahKim`?\"})\n",
    "\n",
    "print(result[\"output\"])"
   ]
  },
  {
   "cell_type": "code",
   "execution_count": 49,
   "metadata": {},
   "outputs": [
    {
     "name": "stdout",
     "output_type": "stream",
     "text": [
      "\n",
      "\n",
      "\u001b[1m> Entering new AgentExecutor chain...\u001b[0m\n",
      "\u001b[32;1m\u001b[1;3m\n",
      "Invoking: `add_function` with `{'a': 114.5, 'b': 121.2}`\n",
      "\n",
      "\n",
      "\u001b[0m\u001b[33;1m\u001b[1;3m235.7\u001b[0m\u001b[32;1m\u001b[1;3m114.5 + 121.2의 계산 결과는 235.7입니다.\u001b[0m\n",
      "\n",
      "\u001b[1m> Finished chain.\u001b[0m\n",
      "result :  {'input': '114.5 + 121.2 의 계산 결과를 알려줘', 'output': '114.5 + 121.2의 계산 결과는 235.7입니다.'}\n",
      "result['output'] :  114.5 + 121.2의 계산 결과는 235.7입니다.\n"
     ]
    }
   ],
   "source": [
    "# add_function 실행\n",
    "result = agent_executor.invoke({\"input\" : \"114.5 + 121.2 의 계산 결과를 알려줘\"})\n",
    "print(\"result : \",result)\n",
    "print(\"result['output'] : \",result[\"output\"])"
   ]
  },
  {
   "cell_type": "markdown",
   "metadata": {},
   "source": [
    "`AgentExecutor` 는 도구를 호출하고 결과를 파싱하는 모든 과정을 자동으로 처리한다.\n",
    "\n",
    "또한 **한번의 실행으로 끝나는 것이 아닌, 모델이 자신의 결과를 확인하고 다시 자신을 호출하는 과정**을 거쳐 최종응답을 llm으로반환한다.\n",
    "\n",
    "input > llm > tool_call > 응답 > llm > 최종응답"
   ]
  },
  {
   "cell_type": "code",
   "execution_count": 50,
   "metadata": {},
   "outputs": [
    {
     "name": "stdout",
     "output_type": "stream",
     "text": [
      "\n",
      "\n",
      "\u001b[1m> Entering new AgentExecutor chain...\u001b[0m\n",
      "\u001b[32;1m\u001b[1;3m\n",
      "Invoking: `add_function` with `{'a': 114.5, 'b': 121.2}`\n",
      "\n",
      "\n",
      "\u001b[0m\u001b[33;1m\u001b[1;3m235.7\u001b[0m\u001b[32;1m\u001b[1;3m\n",
      "Invoking: `add_function` with `{'a': 235.7, 'b': 34.2}`\n",
      "\n",
      "\n",
      "\u001b[0m\u001b[33;1m\u001b[1;3m269.9\u001b[0m\u001b[32;1m\u001b[1;3m\n",
      "Invoking: `add_function` with `{'a': 269.9, 'b': 110.1}`\n",
      "\n",
      "\n",
      "\u001b[0m\u001b[33;1m\u001b[1;3m380.0\u001b[0m\u001b[32;1m\u001b[1;3m114.5 + 121.2 + 34.2 + 110.1의 계산 결과는 380.0입니다.\u001b[0m\n",
      "\n",
      "\u001b[1m> Finished chain.\u001b[0m\n",
      "114.5 + 121.2 + 34.2 + 110.1의 계산 결과는 380.0입니다.\n",
      "==========\n",
      "\n",
      "380.0\n"
     ]
    }
   ],
   "source": [
    "# Atent 실행\n",
    "# Agent 실행\n",
    "result = agent_executor.invoke(\n",
    "    {\"input\": \"114.5 + 121.2 + 34.2 + 110.1 의 계산 결과는?\"}\n",
    ")\n",
    "\n",
    "# 결과 확인\n",
    "print(result[\"output\"])\n",
    "print(\"==========\\n\")\n",
    "print(114.5 + 121.2 + 34.2 + 110.1)"
   ]
  },
  {
   "cell_type": "code",
   "execution_count": 53,
   "metadata": {},
   "outputs": [
    {
     "name": "stdout",
     "output_type": "stream",
     "text": [
      "\n",
      "\n",
      "\u001b[1m> Entering new AgentExecutor chain...\u001b[0m\n",
      "\u001b[32;1m\u001b[1;3m\n",
      "Invoking: `naver_news_crawler` with `{'news_url': 'https://n.news.naver.com/mnews/article/008/0005146446'}`\n",
      "\n",
      "\n",
      "\u001b[0m\u001b[38;5;200m\u001b[1;3m1년에 '13억' 번 상위 1% 유튜버들…\"계좌로 후원, 꼼수 탈세 막아야\"\n",
      "\n",
      "[the300]\n",
      "(광주=뉴스1) 김태성 기자 = 정일영 더불어민주당 의원이 24일 정부광주지방합동청사에서 열린 국회 기획재정위원회 광주지방국세청 국정감사에서 질의하고 있다.2024.10.24/뉴스1  Copyright (C) 뉴스1. All rights reserved. 무단 전재 및 재배포,  AI학습 이용 금지. /사진=(광주=뉴스1) 김태성 기자유튜버나 BJ(인터넷 방송 진행자) 가운데 상위 1%의 평균 한 해 수입이 13억원이 넘는다는 조사결과가 나왔다. 정일영 더불어민주당 의원이 27일 국세청으로부터 제출받은 자료에 따르면 지난해 유튜버, BJ 등 1인 미디어 창작자가 신고한 '2023년 수입금액'은 총 1조7861억원으로 나타났다. 정 의원실에 따르면 2023년 기준 1인 미디어 창작자로 수입을 신고한 인원은 총 2만4797명이었다. 신고 인원은 2019년 1327명에서 2020년 9449명으로 급증했다. 2021년에는 1만6294명, 2022년에는 1만9290명으로 해마다 늘어나는 추세다.  이들이 신고한 연간 수입금액도 증가 추세다. 총 수입액은 2019년 1011억원에서 2020년 5339억원, 2021년 1조83억원, 2022년 1조4537억원으로 집계됐다. 코로나19(COVID-19) 유행기를 거치며 유튜브와 같은 온라인 영상 플랫폼 시장이 확대되고 1인 미디어 창작자가 증가한 영향으로 해석됐다. 1인 미디어 창작자 수입 상위 1%에 해당하는 247명의 총 수입은 3271억원이었다. 이는 전체 수입의 18.3%다. 1인당 연간 평균 13억2500만원을 번 셈이다. 이는 4년 전 2019년 상위 1%의 평균 수입(978억원)보다 35.5% 늘어난 수치다. 또 1인 미디어 상위 10%인 2479명의 총 수입은 8992억원으로 1인당 평균 수입은 3억6200만원이었다. 정 의원은 \"1인 미디어 시장 규모가 커지면서 영상 조회수를 높여 광고, 개인 후원 등 수입을 늘리기 위한 극단적이고 자극적인 콘텐츠 생산이 늘어나고 있다\"며 \"최근 정치 유튜버를 비롯하여 일반적인 유튜버들 사이에서도 사실을 왜곡하거나 극단적인 표현을 사용하는 행태가 지난 12.3 내란 이후 더욱 늘어나 우려스럽다\"고 밝혔다. 이어 \"유튜버·BJ 등 연수입이 매년 급격하게 늘어나고 있는데도 불구하고 세무조사 건수는 최근 3년 동안 거의 증가하지 않고 있으므로 강력한 세무조사를 촉구한다\"고 했다.정 의원 측은 또 \"3억원 이상 수입을 내는 상위 10%의 유튜버들이 동영상 자막 등에 개인계좌를 표기해서 후원을 유도하는 경우 편법적 탈세를 막을 수 없을 것\"이라며 \"자극적이고 극단적인 콘텐츠 양산을 막기 위해서라도 국세청은 강도 높은 세무조사를 체계적이고 전면적으로 설계해 실시해야 할 것\"이라고 밝혔다. \n",
      "김성은 기자 (gttsw@mt.co.kr)\n",
      "기자 프로필\n",
      "머니투데이\n",
      "머니투데이\n",
      "김성은 기자\n",
      "구독\n",
      "구독중\n",
      "구독자 0\n",
      "응원수\n",
      "0\n",
      "이재명, 첫 고속터미널 귀성인사...셀카 찍고 \"잘 다녀오세요\"\n",
      "'금배지' 뺀 류호정 깜짝 근황…\"목수로 취업, 전직과 이직 그만\"\n",
      "머니투데이의 구독 많은 기자를 구독해보세요!\n",
      "닫기\n",
      "Copyright ⓒ 머니투데이. All rights reserved. 무단 전재 및 재배포, AI 학습 이용 금지.\n",
      " \n",
      "이 기사는 언론사에서 정치 섹션으로 분류했습니다.\n",
      "기사 섹션 분류 안내\n",
      "기사의 섹션 정보는 해당 언론사의 분류를 따르고 있습니다. 언론사는 개별 기사를 2개 이상 섹션으로 중복 분류할 수 있습니다.\n",
      "닫기\n",
      "구독\n",
      "메인에서 바로 보는 언론사 편집 뉴스 지금 바로 구독해보세요!\n",
      "구독중\n",
      "메인에서 바로 보는 언론사 편집 뉴스 지금 바로 확인해보세요!\n",
      "통찰과 깊이가 다른 국제시사 · 문예 매거진 [PADO]\n",
      "QR 코드를 클릭하면 크게 볼 수 있어요.\n",
      "QR을 촬영해보세요.\n",
      "통찰과 깊이가 다른 국제시사 · 문예 매거진 [PADO]\n",
      "닫기\n",
      "70돌 된 미피의 생일 기념전에 초대합니다\n",
      "QR 코드를 클릭하면 크게 볼 수 있어요.\n",
      "QR을 촬영해보세요.\n",
      "70돌 된 미피의 생일 기념전에 초대합니다\n",
      "닫기\n",
      "머니투데이\n",
      "머니투데이\n",
      "\t\t\t주요뉴스해당 언론사에서 선정하며 언론사 페이지(아웃링크)로 이동해 볼 수 있습니다.\n",
      "전한길 \"난 노사모 출신\"…노무현재단 \"법적 대응\"\n",
      "\"이따 얘기해\"…김종민, 예비신부에 '재방료' 들통\n",
      "\"다른 남자와 잠자리 강요\"…이혼 변호사도 당황\n",
      "'상습도박' 슈, SES 자료화면서 모자이크 '굴욕'\n",
      "집 곳곳에 커플사진?…지상렬, 동거녀 공개\n",
      "이 기사를 추천합니다\n",
      "기사 추천은 24시간 내 50회까지 참여할 수 있습니다.\n",
      "닫기\n",
      "쏠쏠정보\n",
      "0\n",
      "흥미진진\n",
      "0\n",
      "공감백배\n",
      "0\n",
      "분석탁월\n",
      "0\n",
      "후속강추\n",
      "0\n",
      " \n",
      "모두에게 보여주고 싶은 기사라면?beta\n",
      "이 기사를 추천합니다 버튼을 눌러주세요.  집계 기간 동안 추천을 많이 받은 기사는 네이버 자동 기사배열 영역에 추천 요소로 활용됩니다.\n",
      "레이어 닫기\n",
      " \n",
      "머니투데이 언론사가 직접 선정한 이슈\n",
      "\t\t\t\n",
      "이슈\n",
      "고려아연 경영권 분쟁\n",
      "최윤범 주총 승부수 뒤…MBK \"형사고발\", 고려아연 \"타협하자\"\n",
      "이슈\n",
      "환율 '비상'\n",
      "\"트럼프 관세폭탄, 오늘은 피했다\"…한달 만에 환율 1430원대로 '뚝'\n",
      "이슈\n",
      "내집 마련 도대체 언제쯤?\n",
      "빈집 쌓였는데 또 새집?…지방 '미입주' 공포 커져간다\n",
      "이슈\n",
      "러시아·우크라전쟁 격화\n",
      "러시아, '북한군과 우크라군 맞교환' 젤렌스키 제안에 \"할 말 없다\"\n",
      "이슈\n",
      "금투세 폐지\n",
      "민주당 \"금투세 폐지·가상자산 과세 유예 약속 지킨다\"\n",
      "이전\n",
      "다음\n",
      "머니투데이 언론사홈 바로가기\n",
      " \n",
      "기자 구독 후 기사보기\n",
      "구독 없이 계속 보기\n",
      "\u001b[0m\u001b[32;1m\u001b[1;3m기사 요약:\n",
      "\n",
      "2023년, 상위 1%의 유튜버와 BJ(인터넷 방송 진행자)들이 평균 연간 수입으로 13억 원 이상을 벌어들이고 있다는 조사 결과가 발표됐다. 정일영 더불어민주당 의원이 국세청에서 받은 자료에 따르면, 지난해 1인 미디어 창작자들이 신고한 총 수입은 1조 7861억 원에 달하며, 신고한 창작자 수는 2만 4797명으로 증가 추세에 있다. 특히, 상위 1%인 247명의 총 수입은 3271억 원으로 전체 수입의 18.3%를 차지하고 있다.\n",
      "\n",
      "정 의원은 1인 미디어 시장의 성장에 따라 자극적이고 극단적인 콘텐츠 생산이 증가하고 있으며, 세무조사 건수가 증가하지 않고 있는 점을 우려하고 있다. 그는 국세청이 강력한 세무조사를 실시해야 한다고 강조했다.\u001b[0m\n",
      "\n",
      "\u001b[1m> Finished chain.\u001b[0m\n",
      "기사 요약:\n",
      "\n",
      "2023년, 상위 1%의 유튜버와 BJ(인터넷 방송 진행자)들이 평균 연간 수입으로 13억 원 이상을 벌어들이고 있다는 조사 결과가 발표됐다. 정일영 더불어민주당 의원이 국세청에서 받은 자료에 따르면, 지난해 1인 미디어 창작자들이 신고한 총 수입은 1조 7861억 원에 달하며, 신고한 창작자 수는 2만 4797명으로 증가 추세에 있다. 특히, 상위 1%인 247명의 총 수입은 3271억 원으로 전체 수입의 18.3%를 차지하고 있다.\n",
      "\n",
      "정 의원은 1인 미디어 시장의 성장에 따라 자극적이고 극단적인 콘텐츠 생산이 증가하고 있으며, 세무조사 건수가 증가하지 않고 있는 점을 우려하고 있다. 그는 국세청이 강력한 세무조사를 실시해야 한다고 강조했다.\n"
     ]
    }
   ],
   "source": [
    "result = agent_executor.invoke(\n",
    "    {\"input\" :  \"뉴스 기사 크롤링 후 요약해줘: https://n.news.naver.com/mnews/article/008/0005146446\"}\n",
    ")\n",
    "\n",
    "print(result[\"output\"])\n"
   ]
  }
 ],
 "metadata": {
  "kernelspec": {
   "display_name": "test_langchain",
   "language": "python",
   "name": "python3"
  },
  "language_info": {
   "codemirror_mode": {
    "name": "ipython",
    "version": 3
   },
   "file_extension": ".py",
   "mimetype": "text/x-python",
   "name": "python",
   "nbconvert_exporter": "python",
   "pygments_lexer": "ipython3",
   "version": "3.12.7"
  }
 },
 "nbformat": 4,
 "nbformat_minor": 2
}
