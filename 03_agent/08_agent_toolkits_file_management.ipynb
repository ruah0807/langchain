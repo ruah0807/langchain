{
 "cells": [
  {
   "cell_type": "markdown",
   "metadata": {},
   "source": [
    "## Toolkits 활용 Agent\n",
    "\n",
    "Langchain 프레임워크를 사용하는 가장 큰 이점은 3rd party integration 되어있는 다양한 기능들을 사용할 수 있다는 점이다.\n",
    "\n",
    "그 중 Toolkits는 다양한 도구를 통합하여 제공한다.\n",
    "\n",
    "- Source\n",
    "    - [Agent Toolkits](https://api.python.langchain.com/en/latest/community/agent_toolkits.html)\n",
    "    - [Tools](https://python.langchain.com/docs/integrations/tools/)"
   ]
  },
  {
   "cell_type": "code",
   "execution_count": null,
   "metadata": {},
   "outputs": [],
   "source": []
  }
 ],
 "metadata": {
  "language_info": {
   "name": "python"
  }
 },
 "nbformat": 4,
 "nbformat_minor": 2
}
