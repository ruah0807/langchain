{
 "cells": [
  {
   "cell_type": "markdown",
   "metadata": {},
   "source": [
    "# 에이전트 대화 시뮬레이션(고객 응대 시나리오)\n",
    "\n",
    "챗봇을 구축할 때, 예를 들어 고객 지원 어시스턴트와 같은 경우, 챗봇의 성능을 제대로 평가하는 것이 어려운경우가 많다. \n",
    "\n",
    "코드 변경마다 집중적으로 수동으로 상호 작용하는 것은 시간이 많이 소요된다.\n",
    "\n",
    "평가 과정을 더 쉽고 재현 가능하게 만드는 한 가지 방법은 사용자 상호 작용을 시뮬레이션하는 것!\n",
    "\n",
    "아래는 대화를 시뮬레이션하기 위해 LangGraph를 사용하여 \"가상 사용자(Simulated User)\"를 생성하는 방법의 예시이다.\n",
    "\n",
    "![](https://velog.velcdn.com/images/looa0807/post/36c13242-7cad-47eb-9bc3-658a4cb42565/image.png)\n",
    "\n",
    "\n"
   ]
  },
  {
   "cell_type": "code",
   "execution_count": 1,
   "metadata": {},
   "outputs": [
    {
     "data": {
      "text/plain": [
       "True"
      ]
     },
     "execution_count": 1,
     "metadata": {},
     "output_type": "execute_result"
    }
   ],
   "source": [
    "from dotenv import load_dotenv\n",
    "load_dotenv()\n"
   ]
  },
  {
   "cell_type": "markdown",
   "metadata": {},
   "source": [
    "## 상태(State) 정의"
   ]
  },
  {
   "cell_type": "code",
   "execution_count": 2,
   "metadata": {},
   "outputs": [],
   "source": [
    "from langgraph.graph.message import add_messages\n",
    "from typing import Annotated\n",
    "from typing_extensions import TypedDict\n",
    "\n",
    "# state 정의\n",
    "class State(TypedDict):\n",
    "    messages : Annotated[list, add_messages] # 사용자와 챗봇의 대화\n",
    "\n"
   ]
  },
  {
   "cell_type": "markdown",
   "metadata": {},
   "source": [
    "## 상담사, 고객 역할 정의\n",
    "### 상담사 역할 정의\n",
    "시뮬레이션에서 상담사 역할을 하는 챗봇을 정의한다.\n",
    "\n",
    "\n",
    "- `call_chatbot` 내의 구현은 설정 가능하며, 내부에서 사용한 모델을 Agent 로 변경하는 것도 가능.\n",
    "- `call_chatbot` 은 사용자로부터 메시지를 입력으로 받아, 고객을 상담하는 역할을 부여한다.\n",
    "\n",
    "고객 지원 시나리오에서의 대화 응답 생성에 활용될 수 있다."
   ]
  },
  {
   "cell_type": "code",
   "execution_count": 3,
   "metadata": {},
   "outputs": [],
   "source": [
    "from typing import List\n",
    "from langchain_openai import ChatOpenAI\n",
    "from langchain_core.prompts import ChatPromptTemplate, MessagesPlaceholder\n",
    "from langchain_core.messages import HumanMessage, AIMessage, BaseMessage\n",
    "from langchain_core.output_parsers import StrOutputParser\n",
    "\n",
    "# 모델이름설정\n",
    "MODEL_NAME = \"gpt-4o-mini\"\n",
    "\n",
    "def call_chatbot(messages : List[BaseMessage]) -> dict :\n",
    "    # Langchain ChatOpenAI 모델을 Agent로 변경 가능\n",
    "    prompt = ChatPromptTemplate.from_messages([\n",
    "        (\"system\", \"You are a customer support agent for an airline. Answer in Korean.\"),\n",
    "        MessagesPlaceholder(variable_name=\"messages\")\n",
    "    ])\n",
    "    model = ChatOpenAI(model=MODEL_NAME, temperature=0.65)\n",
    "    chain = prompt | model | StrOutputParser()\n",
    "    return chain.invoke({\"messages\": messages})\n",
    "\n"
   ]
  },
  {
   "cell_type": "markdown",
   "metadata": {},
   "source": [
    "all_chatbot 은 사용자의 입력을 받아 챗봇의 응답을 처리한다."
   ]
  },
  {
   "cell_type": "code",
   "execution_count": 4,
   "metadata": {},
   "outputs": [
    {
     "data": {
      "text/plain": [
       "'안녕하세요! 어떻게 도와드릴까요?'"
      ]
     },
     "execution_count": 4,
     "metadata": {},
     "output_type": "execute_result"
    }
   ],
   "source": [
    "call_chatbot([\"user\", \"안녕하세요?\"])"
   ]
  },
  {
   "cell_type": "markdown",
   "metadata": {},
   "source": [
    "## 고객 역할(Simulated User) 정의\n",
    "\n",
    "시뮬레이션 된 고객의 역할 정의는  고객지원 시나리오에서의 대화를 시뮬레이션한다.\n",
    "\n",
    "시스템프롬프트는 고객과 고객 지원담당자 간의 상호작용을 설정하며, 사용자 지시사항을 통해 시나리오의 세부사항을 제공한다.\n",
    "\n",
    "이 구성은 특정 사용자 요구(예 : request refund)에 대한 모델의 반응을 시뮬레이션 하는데 사용된다."
   ]
  },
  {
   "cell_type": "code",
   "execution_count": 5,
   "metadata": {},
   "outputs": [],
   "source": [
    "from langchain_core.prompts import ChatPromptTemplate, MessagesPlaceholder\n",
    "from langchain_openai import ChatOpenAI\n",
    "\n",
    "def create_scenario(name : str, instructions : str) :\n",
    "    # 시스템 프롬프트를 정의 : 필요에 따라 변경\n",
    "    system_prompt = \"\"\"You are a customer of an airline company. \\\n",
    "You are interacting with a user who is a customer support person\\\n",
    "Your name is {name}.\n",
    "\n",
    "# Instructions :\n",
    "{instructions}\n",
    "\n",
    "[Important]\n",
    "- When you are finished with the conversation responsd with a single word 'FINISHED'.\n",
    "- You must speak in Korean.\"\"\"\n",
    "\n",
    "    # 대화 메시지와 시스템 프롬프트를 결합하여 채팅 프롬프트 템플릿을 생성\n",
    "    prompt = ChatPromptTemplate.from_messages([\n",
    "        (\"system\", system_prompt),\n",
    "        MessagesPlaceholder(variable_name=\"messages\")\n",
    "    ])\n",
    "\n",
    "    # 특정 사용자 이름과 지시사항을 사용하여 플모프트를 부분적으로 채우기\n",
    "    prompt = prompt.partial(name=name, instructions=instructions)\n",
    "    return prompt\n"
   ]
  },
  {
   "cell_type": "markdown",
   "metadata": {},
   "source": [
    "고객의 입장에서의 가상 시나리오를 생성.\n",
    "\n",
    "환불을 요청하는 시나리오 정의"
   ]
  },
  {
   "cell_type": "code",
   "execution_count": 6,
   "metadata": {},
   "outputs": [
    {
     "name": "stdout",
     "output_type": "stream",
     "text": [
      "================================\u001b[1m System Message \u001b[0m================================\n",
      "\n",
      "You are a customer of an airline company. You are interacting with a user who is a customer support personYour name is \u001b[33;1m\u001b[1;3m{name}\u001b[0m.\n",
      "\n",
      "# Instructions :\n",
      "\u001b[33;1m\u001b[1;3m{instructions}\u001b[0m\n",
      "\n",
      "[Important]\n",
      "- When you are finished with the conversation responsd with a single word 'FINISHED'.\n",
      "- You must speak in Korean.\n",
      "\n",
      "=============================\u001b[1m Messages Placeholder \u001b[0m=============================\n",
      "\n",
      "\u001b[33;1m\u001b[1;3m{messages}\u001b[0m\n"
     ]
    }
   ],
   "source": [
    "# 사용자 지시사항을 정의\n",
    "instructions = \"\"\"You are trying to get a refund for the trip you took to Jeju Island \\\n",
    "You want them to give you ALL the money back. This trip happend last year.\"\"\"\n",
    "\n",
    "# 사용자 이름 정의\n",
    "name = \"Ruah Kim\"\n",
    "\n",
    "create_scenario(name, instructions).pretty_print()\n",
    "\n",
    "\n"
   ]
  },
  {
   "cell_type": "code",
   "execution_count": 7,
   "metadata": {},
   "outputs": [],
   "source": [
    "# OpenAI 챗봇 모델을 초기화합니다.\n",
    "model = ChatOpenAI(model=MODEL_NAME, temperature=0.6)\n",
    "\n",
    "# 시뮬레이션된 사용자 대화를 생성합니다.\n",
    "simulated_user = create_scenario(name, instructions) | model | StrOutputParser()"
   ]
  },
  {
   "cell_type": "markdown",
   "metadata": {},
   "source": [
    "생성된 `simulated_user` 를 호출하여 시뮬레이션된 사용자에게 메시지를 전달"
   ]
  },
  {
   "cell_type": "code",
   "execution_count": 8,
   "metadata": {},
   "outputs": [
    {
     "data": {
      "text/plain": [
       "'안녕하세요. 작년에 제주도로 갔던 여행에 대한 환불을 요청하고 싶습니다. 모든 금액을 돌려받고 싶어요. 도와주실 수 있나요?'"
      ]
     },
     "execution_count": 8,
     "metadata": {},
     "output_type": "execute_result"
    }
   ],
   "source": [
    "from langchain_core.messages import HumanMessage\n",
    "\n",
    "# 시뮬레이션된 사용자에게 메시지를 전달 (상담사 ->  고객)\n",
    "messages = [HumanMessage(content=\"안녕하세요? 어떻게 도와드릴까요?\")]\n",
    "simulated_user.invoke({\"messages\" : messages})\n"
   ]
  },
  {
   "cell_type": "markdown",
   "metadata": {},
   "source": [
    "## 에이전트 시뮬레이션 정의하기\n",
    "아래의 코드는 시뮬레이션을 실행하기 위한 LangGraph 워크플로우를 생성한다.\n",
    "\n",
    "**주요 구성 요소는 다음과 같습니다:**\n",
    "\n",
    "1. 시뮬레이션된 사용자와 챗봇을 위한 두 개의 노드.\n",
    "2. 조건부 정지 기준을 가진 그래프 자체.\n",
    "\n",
    "\n",
    "### 노드 정의\n",
    "먼저, 그래프에서 노드를 정의한다. 이들은 메시지 목록을 입력으로 받아 상태에 추가할 메시지 목록을 반환해야 한다. 이것들은 위에 있는 챗봇과 시뮬레이션된 사용자를 둘러싼 것 래퍼들이다.\n",
    "\n",
    "참고: 여기서 까다로운 점은 어떤 메시지가 어떤 것인지 구분하는 것이다.\n",
    "\n",
    "챗봇과 시뮬레이션된 사용자 모두 LLMs이기 때문에, 둘 다 AI 메시지로 응답할 것이다. 우리의 상태는 인간과 AI 메시지가 번갈아 가며 나열된 목록이 되고, 이는 노드 중 하나에서 AI와 인간 역할을 바꾸는 논리가 필요함을 의미한다.\n",
    "\n",
    "\n",
    "이 예제에서는, HumanMessages가 시뮬레이션된 사용자로부터 온 메시지라고 가정하고, 이는 시뮬레이션된 사용자 노드에 AI와 Human 메시지를 교환하는 논리가 필요함을 의미한다."
   ]
  },
  {
   "cell_type": "code",
   "execution_count": 9,
   "metadata": {},
   "outputs": [],
   "source": [
    "from langchain_core.messages import AIMessage\n",
    "\n",
    "\n",
    "# 상담사 역할\n",
    "def ai_assistant_node(messages):\n",
    "    # 상담사 응답 호출\n",
    "    ai_response = call_chatbot(messages)\n",
    "\n",
    "    # AI 상담사의 응답을 반환\n",
    "    return {\"messages\": [(\"assistant\", ai_response)]}"
   ]
  },
  {
   "cell_type": "code",
   "execution_count": 10,
   "metadata": {},
   "outputs": [
    {
     "data": {
      "text/plain": [
       "{'messages': [('assistant',\n",
       "   \"환불 요청은 다음과 같은 절차로 진행하실 수 있습니다:\\n\\n1. **웹사이트 방문**: 저희 항공사 공식 웹사이트에 접속합니다.\\n2. **환불 요청 메뉴 찾기**: 홈페이지에서 '고객 지원' 또는 '환불 요청' 메뉴를 클릭합니다.\\n3. **정보 입력**: 예약 번호와 성명 등의 정보를 입력하여 환불 요청 양식을 작성합니다.\\n4. **제출**: 양식을 제출하시면, 저희 고객 지원 팀이 요청을 처리하게 됩니다.\\n\\n환불 처리에는 일반적으로 7~14일 정도 소요될 수 있습니다. 추가적인 질문이 있으시면 언제든지 말씀해 주세요!\")]}"
      ]
     },
     "execution_count": 10,
     "metadata": {},
     "output_type": "execute_result"
    }
   ],
   "source": [
    "ai_assistant_node(\n",
    "    [\n",
    "        (\"user\", \"안녕하세요?\"),\n",
    "        (\"assistant\", \"안녕하세요! 어떻게 도와드릴까요?\"),\n",
    "        (\"user\", \"환불 어떻게 하나요?\"),\n",
    "    ]\n",
    ")"
   ]
  },
  {
   "cell_type": "markdown",
   "metadata": {},
   "source": [
    "다음으로, 우리의 시뮬레이션된 사용자를 위한 노드를 정의한다.\n",
    "\n",
    "- 이 과정에서는 메시지의 역할을 교체하는 작은 로직이 포함될 것입니다."
   ]
  },
  {
   "cell_type": "code",
   "execution_count": 12,
   "metadata": {},
   "outputs": [],
   "source": [
    "def _swap_roles(messages):\n",
    "    # 메세지 역할을 교환 : 시뮬레이션 사용자 단계에서 메시지 타입을 AI -> human, human -> AI로 교환\n",
    "    new_messages = []\n",
    "    for m in messages:\n",
    "        if isinstance(m, AIMessage):\n",
    "            # AIMessage 인 경우, HumanMessage로 변환\n",
    "            new_messages.append(HumanMessage(content=m.content))\n",
    "        else:\n",
    "            # HumanMessage 인 경우, AIMessage로 변환\n",
    "            new_messages.append(AIMessage(content=m.content))\n",
    "    return new_messages\n",
    "\n",
    "# 상담사 assistant 노드 정의\n",
    "def ai_assistant_node(state:State):\n",
    "    # 상담사 응답 호출\n",
    "    ai_response = call_chatbot(state[\"messages\"])\n",
    "\n",
    "    # AI 상담사의 응답을 반환\n",
    "    return {\"messages\":[(\"assistant\", ai_response)]}\n",
    "\n",
    "\n",
    "# 시뮬레이션된 사용자 노드 정의\n",
    "def simulated_user_node(state: State):\n",
    "    # 상담사 응답 호출\n",
    "    new_messages = _swap_roles(state[\"messages\"])\n",
    "\n",
    "   # 시뮬레이션된 사용자를 호출\n",
    "    response = simulated_user.invoke({\"messages\": new_messages})\n",
    "    return {\"messages\": [(\"user\", response)]}\n",
    "\n",
    "\n"
   ]
  },
  {
   "cell_type": "markdown",
   "metadata": {},
   "source": [
    "### 엣지 정의\n",
    "이제 엣지에 대한 로직을 정의할 필요가 있습니다. 주된 로직은 시뮬레이션된 사용자가 작업을 마친 후 발생하며, 두 가지 결과 중 하나로 이어져야 합니다:\n",
    "\n",
    "- 고객 지원 봇을 호출하여 계속 진행(\"continue\")\n",
    "- 대화를 마치고 종료(\"end\")\n",
    "\n",
    "그렇다면 대화가 종료되는 로직은 무엇일까요? 우리는 이를 인간 챗봇이 `FINISHED`로 응답하거나(시스템 프롬프트 참조) 대화가 6개 메시지를 초과하는 경우로 정의할 것입니다 (이는 이 예제를 짧게 유지하기 위한 임의의 숫자입니다).\n",
    "\n",
    "`should_continue` 함수는 메시지 리스트를 인자로 받아, 리스트의 길이가 6을 초과하거나 마지막 메시지의 내용이 '`FINISHED`'일 경우 'end'를 반환합니다.\n",
    "\n",
    "그렇지 않으면 'continue'를 반환하여 처리를 계속하도록 합니다."
   ]
  },
  {
   "cell_type": "code",
   "execution_count": 13,
   "metadata": {},
   "outputs": [],
   "source": [
    "def should_continue(state:State):\n",
    "    # 메시지 리스트의 길이가 6보다 크면 'end'를 반환\n",
    "    if len(state[\"messages\"]) > 6:\n",
    "        return \"end\"\n",
    "    # 마지막 메시지가 'FINISHED'이면 'end'를 반환\n",
    "    if state[\"messages\"][-1].content == \"FINISHED\":\n",
    "        return \"end\"\n",
    "    # 그렇지 않으면 'continue'를 반환\n",
    "    return \"continue\"\n"
   ]
  },
  {
   "cell_type": "markdown",
   "metadata": {},
   "source": [
    "## 그래프 정의\n",
    "이제 시뮬레이션을 설정하는 그래프를 정의합니다.\n",
    "\n",
    "MessageGraph 클래스는 챗봇과 시뮬레이션된 사용자 간의 상호작용을 구성하고 시뮬레이션하는 데 사용됩니다."
   ]
  },
  {
   "cell_type": "code",
   "execution_count": 14,
   "metadata": {},
   "outputs": [],
   "source": [
    "from langgraph.graph import END, StateGraph\n",
    "\n",
    "# StateGraph 인스턴스 생성\n",
    "graph_builder = StateGraph(State)\n",
    "\n",
    "# 노드 정의\n",
    "graph_builder.add_node(\"simulated_user\", simulated_user_node)\n",
    "graph_builder.add_node(\"ai_assistant\", ai_assistant_node)\n",
    "\n",
    "# 엣지 정의 (챗봇 -> 시뮬레이션된 사용자)\n",
    "graph_builder.add_edge(\"ai_assistant\", \"simulated_user\")\n",
    "\n",
    "# 조건부 엣지 정의\n",
    "graph_builder.add_conditional_edges(\n",
    "    \"simulated_user\",\n",
    "    should_continue,\n",
    "    {\n",
    "        \"end\": END,  # 종료 조건이 충족되면 시뮬레이션을 중단\n",
    "        \"continue\": \"ai_assistant\",  # 종료 조건이 충족되지 않으면 상담사 역할 노드로 메시지를 전달\n",
    "    },\n",
    ")\n",
    "\n",
    "# 시작점 설정\n",
    "graph_builder.set_entry_point(\"ai_assistant\")\n",
    "\n",
    "# 그래프 컴파일\n",
    "simulation = graph_builder.compile()"
   ]
  },
  {
   "cell_type": "code",
   "execution_count": 15,
   "metadata": {},
   "outputs": [
    {
     "data": {
      "image/png": "[encoded data removed]",
      "text/plain": [
       "<IPython.core.display.Image object>"
      ]
     },
     "metadata": {},
     "output_type": "display_data"
    }
   ],
   "source": [
    "from langchain_teddynote.graphs import visualize_graph\n",
    "\n",
    "visualize_graph(simulation)"
   ]
  },
  {
   "cell_type": "markdown",
   "metadata": {},
   "source": [
    "## 시뮬레이션 시작\n",
    "이제 우리의 챗봇을 평가해보자. 빈 메시지로 호출할 수 있다(이것은 챗봇이 초기 대화를 시작하게 하는 것을 시뮬레이션한다.)\n",
    "\n",
    "시뮬레이션에서 스트리밍되는 데이터 청크를 순회하며, 최종 종료 청크(END)를 제외한 모든 이벤트를 출력한다."
   ]
  },
  {
   "cell_type": "code",
   "execution_count": 16,
   "metadata": {},
   "outputs": [
    {
     "name": "stdout",
     "output_type": "stream",
     "text": [
      "\n",
      "==================================================\n",
      "🔄 Node: \u001b[1;36mai_assistant\u001b[0m 🔄\n",
      "- - - - - - - - - - - - - - - - - - - - - - - - - \n",
      "안녕하세요! 불편을 드려서 정말 죄송합니다. 어떤 문제가 있으신지 말씀해 주시면 최선을 다해 도와드리겠습니다.\n",
      "==================================================\n",
      "🔄 Node: \u001b[1;36msimulated_user\u001b[0m 🔄\n",
      "- - - - - - - - - - - - - - - - - - - - - - - - - \n",
      "작년에 제주도로 여행을 갔었는데, 그 여행에 대한 전액 환불을 요청하고 싶습니다. 가능한가요?\n",
      "==================================================\n",
      "🔄 Node: \u001b[1;36mai_assistant\u001b[0m 🔄\n",
      "- - - - - - - - - - - - - - - - - - - - - - - - - \n",
      "작년에 제주도로 여행하셨던 건에 대한 전액 환불 요청은 일반적으로 항공사의 환불 정책에 따라 다릅니다. 예약하신 항공권의 종류와 예약 시의 조건에 따라 환불 가능 여부가 달라질 수 있습니다. \n",
      "\n",
      "구체적인 사항을 확인하기 위해서는 예약 번호와 함께 어떤 사유로 환불을 원하시는지 알려주시면 더욱 정확한 정보를 제공해 드릴 수 있습니다. 추가로 도움이 필요하시다면 언제든지 말씀해 주세요!\n",
      "==================================================\n",
      "🔄 Node: \u001b[1;36msimulated_user\u001b[0m 🔄\n",
      "- - - - - - - - - - - - - - - - - - - - - - - - - \n",
      "예약 번호는 12345678입니다. 여행을 가는 동안 여러 가지 문제가 있었고, 그로 인해 매우 불만족스러운 경험을 했습니다. 그래서 전액 환불을 원합니다.\n",
      "==================================================\n",
      "🔄 Node: \u001b[1;36mai_assistant\u001b[0m 🔄\n",
      "- - - - - - - - - - - - - - - - - - - - - - - - - \n",
      "예약 번호 12345678에 대한 환불 요청을 접수하였습니다. 불만족스러운 경험에 대해 진심으로 사과드립니다. \n",
      "\n",
      "환불 요청은 관련 부서에서 검토 후, 귀하의 상황에 맞는 환불 가능 여부를 결정하게 됩니다. 일반적으로 환불 처리에는 시간이 소요될 수 있으며, 최대한 빠른 시일 내에 결과를 안내드리도록 하겠습니다.\n",
      "\n",
      "추가로 궁금하신 사항이 있으시면 언제든지 말씀해 주세요. 감사합니다.\n",
      "==================================================\n",
      "🔄 Node: \u001b[1;36msimulated_user\u001b[0m 🔄\n",
      "- - - - - - - - - - - - - - - - - - - - - - - - - \n",
      "환불 요청이 최대한 빨리 처리되길 바랍니다. 저는 전액 환불을 강력히 원하니 꼭 그렇게 해주세요. 그리고 진행 상황이 어떻게 되는지 알려주시면 좋겠습니다. 감사합니다."
     ]
    }
   ],
   "source": [
    "from langchain_core.runnables import RunnableConfig\n",
    "from langchain_teddynote.messages import stream_graph, random_uuid\n",
    "\n",
    "\n",
    "# config 설정(재귀 최대 횟수, thread_id)\n",
    "config = RunnableConfig(recursion_limit=10, configurable={\"thread_id\": random_uuid()})\n",
    "\n",
    "# 입력 메시지 설정\n",
    "inputs = {\n",
    "    \"messages\": [HumanMessage(content=\"안녕하세요? 저 지금 좀 화가 많이 났습니다^^\")]\n",
    "}\n",
    "\n",
    "# 그래프 스트리밍\n",
    "stream_graph(simulation, inputs, config, node_names=[\"simulated_user\", \"ai_assistant\"])"
   ]
  },
  {
   "cell_type": "code",
   "execution_count": null,
   "metadata": {},
   "outputs": [],
   "source": []
  }
 ],
 "metadata": {
  "kernelspec": {
   "display_name": "agent",
   "language": "python",
   "name": "python3"
  },
  "language_info": {
   "codemirror_mode": {
    "name": "ipython",
    "version": 3
   },
   "file_extension": ".py",
   "mimetype": "text/x-python",
   "name": "python",
   "nbconvert_exporter": "python",
   "pygments_lexer": "ipython3",
   "version": "3.12.8"
  }
 },
 "nbformat": 4,
 "nbformat_minor": 2
}
