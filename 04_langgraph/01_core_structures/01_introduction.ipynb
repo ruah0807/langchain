{
 "cells": [
  {
   "cell_type": "markdown",
   "metadata": {},
   "source": [
    "# LangGraph에 자주 등장하는 Python 문법\n",
    "\n",
    "## TypedDict\n",
    "\n",
    "`dict`와 `TypedDict`의 차이점과 `TypedDict`가 왜 `dict`대신 사용되는가?\n",
    "\n",
    "### dict와 TypedDict의 주요 차이점 :\n",
    "- **타입 검사** \n",
    "    - `dict` : 런타임에 타입 검사를 하지 않는다. \n",
    "    - `TypedDict` : 정적 타입 검사를 제공한다. 즉, 코드 작성시 IDE나 타입 체커가 오류를 미리 잡아낼 수 있다.\n",
    "- **키와 값의 타입** \n",
    "    - `dict` : 키와 값의 타입을 일반적으로 지정한다. 예 : `Dict[str, str]`\n",
    "    - `TypedDict` : 각 키에 대해 구체적인 타입을 지정할 수 있다. \n",
    "- **유연성**\n",
    "    - `dict` : 런타임에 키를 추가하거나 제거할 수 있다.\n",
    "    - `TypedDict` : 정의된 구조를 따라야한다. 추가적인 키는 타입 오류를 발생시킴.\n",
    "\n",
    "### TypedDict가 dict 대신 사용되는 이유\n",
    "- 타입 안정성 : `TypedDict`는 더 엄격한 타입검사를 제공, 잠재적인 버그를 미리 방지\n",
    "- 코드 가독성 : `TypedDict`를 사용하면 딕셔너리 구조를 명확히 정의 할 수 있어, 가독성이 향상.\n",
    "- IDE 지원 : `TypedDict` 를 사용하면 IDE에서 자동완성 및 타입 힌트를 더 정확하게 제공받음.\n",
    "- 문서화 : `TypedDict` 는 코드 자체가 문서의 역할을 하여 딕셔너리 구조를 명확히 보여줌.\n"
   ]
  },
  {
   "cell_type": "code",
   "execution_count": 5,
   "metadata": {},
   "outputs": [],
   "source": [
    "from typing import Dict, TypedDict\n",
    "\n",
    "# 일반적인 딕셔너리 정의\n",
    "sample_dict : Dict[str, str] = {\n",
    "    \"name\": \"Ruah\",\n",
    "    \"age\": \"20\",\n",
    "    \"job\": \"developer\"\n",
    "}\n",
    "\n",
    "# TypedDict 정의\n",
    "class SampleTypedDict(TypedDict):\n",
    "    name: str\n",
    "    age: int\n",
    "    job: str\n",
    "\n",
    "typed_dict : SampleTypedDict ={\"name\":\"Ruah\", \"age\":20, \"job\":\"developer\"}\n"
   ]
  },
  {
   "cell_type": "code",
   "execution_count": 6,
   "metadata": {},
   "outputs": [],
   "source": [
    "# Dict의 경우\n",
    "sample_dict[\"age\"] = \"20\" # 문자역에서 정수로 변경되어도 오류가 없다.\n",
    "sample_dict[\"new_field\"] = \"new_value\" # 새로운 필드 추가 가능\n",
    "\n",
    "# TypedDict의 경우\n",
    "typed_dict[\"age\"] = 20 # int로 올바르게 사용\n",
    "typed_dict[\"age\"] = \"20\" # 문자열로 사용하면 타입 오류 발생\n",
    "typed_dict[\"new_field\"] = \"new_value\" # 새로운 필드 추가 불가능 : 타입 체커가 정의되지 않은 키라고 오류를 발생시킴\n"
   ]
  },
  {
   "cell_type": "markdown",
   "metadata": {},
   "source": [
    "But,  `TypedDict` 는 **정적 타입 검사기**를 사용할때 더 유용하다.\n",
    "\n",
    "For example, mypy와 같은 정적 타입 검사기를 사용하거나, PyCharm, VSCode 등의 IDE 에서 타입 검사 기능을 활성화하면, 이러한 타입 불일치와 정의되지 않은 키 추가를 오류로 표시한다. 정적 타입 검사기를 사용하면 다음과 같은 오류 메시지를 볼 수 있다. \n",
    "\n",
    "## Annotated\n",
    "\n",
    "이 문법은 타입 힌트에 메타데이터를 추가할수 있게 해준다. \n",
    "\n",
    "### Annotated 를 사용하는 주요 이유\n",
    "\n",
    "**추가 정보 제공(타입힌트) / 문서화**\n",
    "\n",
    "- 타입 힌트에 추가적인 정보를 포함시킬 수 있다. 이는 코드를 읽는 사람이나 도구에 더 많은 context를 제공한다.\n",
    "\n",
    "- 코드에 대한 추가 설명을 타입 힌트에 직접 포함시킬 수 있다. \n",
    "\n",
    "`name : Annotated[str, \"이름\"]`\n",
    "\n",
    "`age : Annotated[int, \"나이\"]`\n",
    "\n",
    "---\n",
    "\n",
    "`Annotated`는 Python의 typing 모듈에서 제공하는 타입 힌트로서, 기존 타입에 메타 데이터를 추가할 수 있게 해준다. \n",
    "\n",
    "`Annotated`는 타입 힌트에 추가 정보를 포함시킬 수 있는 기능을 제공한다. 이를 통해 코드의 가독성을 높이고, 더 자세한 타입 정보를 제공 가능하다.\n",
    "\n",
    "### Annotated 의 주요 기능 및 사용 이유\n",
    "\n",
    "1. **추가 정보 제공** : 타입 힌트에 메타데이터를 추가하여 더 상세한 정보를 제공\n",
    "2. **문서화** : 코드 자체에 추가 설명을 포함시켜 문서화 효과를 얻을 수 있음.\n",
    "3. **유효성 검사** : 특정라이브러리(예 : pydantic)에서 유효성 검사를 수행할 때 유용\n",
    "4. **프레임워크 지원** : 일부 프레임워크에 (예 : LangGraph) 에서 `Annotated`를 사용하여 특별한 동작을 정의 \n",
    "\n",
    "### Basic Syntax\n",
    "- `Type` : 기본 타입(에 : int, str, List[str] 등)\n",
    "- `metadata` : 추가 정보(예 : \"이름\", \"나이\" 등)\n",
    "\n",
    "`name : Annotated[Type, Metadata]`\n",
    "\n",
    "```py\n",
    "from typing import Annotated\n",
    "\n",
    "variable: Annotated[Type, metadata1, metadata2, ...]\n",
    "```\n",
    "\n",
    "### 예시\n",
    "\n"
   ]
  },
  {
   "cell_type": "code",
   "execution_count": 7,
   "metadata": {},
   "outputs": [],
   "source": [
    "from typing import Annotated\n",
    "\n",
    "name : Annotated[str, \"이름\"]\n",
    "age : Annotated[int, \"나이(0~100)\"]\n"
   ]
  },
  {
   "cell_type": "markdown",
   "metadata": {},
   "source": [
    "Pydantic과 함께 사용한다."
   ]
  },
  {
   "cell_type": "code",
   "execution_count": 11,
   "metadata": {},
   "outputs": [
    {
     "name": "stdout",
     "output_type": "stream",
     "text": [
      "id=1 name='Ruah Kim' age=30 salary=6000 skills=['Python', 'LangChain']\n"
     ]
    }
   ],
   "source": [
    "from typing import Annotated, List\n",
    "from pydantic import Field, BaseModel, ValidationError\n",
    "\n",
    "class Employee(BaseModel):\n",
    "    id: Annotated[int, Field(..., description = \"직원 id\")] # ... 은 필수 필드임을 나타냄\n",
    "    name : Annotated[str, Field(..., min_length=3, max_length=10, description=\"직원 이름\")]\n",
    "    age: Annotated[int, Field(gt=18, lt=65, description=\"나이 (19-64세)\")]\n",
    "    salary: Annotated[\n",
    "        int, Field(gt=0, lt=10000, description=\"연봉 (단위: 만원, 최대 10억)\")\n",
    "    ]\n",
    "    skills: Annotated[\n",
    "        List[str], Field(min_items=1, max_items=10, description=\"보유 기술 (1-10개)\")\n",
    "    ]\n",
    "try:\n",
    "    employee = Employee(\n",
    "        id=1, name=\"Ruah Kim\", age=30, salary=6000, skills=[\"Python\", \"LangChain\"]\n",
    "    )\n",
    "    print(employee)\n",
    "except ValidationError as e:\n",
    "    print(e)\n"
   ]
  },
  {
   "cell_type": "code",
   "execution_count": null,
   "metadata": {},
   "outputs": [],
   "source": []
  }
 ],
 "metadata": {
  "kernelspec": {
   "display_name": "agent",
   "language": "python",
   "name": "python3"
  },
  "language_info": {
   "codemirror_mode": {
    "name": "ipython",
    "version": 3
   },
   "file_extension": ".py",
   "mimetype": "text/x-python",
   "name": "python",
   "nbconvert_exporter": "python",
   "pygments_lexer": "ipython3",
   "version": "3.12.8"
  }
 },
 "nbformat": 4,
 "nbformat_minor": 2
}
